{
 "cells": [
  {
   "cell_type": "code",
   "execution_count": 2,
   "metadata": {
    "collapsed": true
   },
   "outputs": [],
   "source": [
    "import pandas as pd\n",
    "import numpy as np\n",
    "import matplotlib.pyplot as plt\n",
    "%matplotlib inline\n",
    "import seaborn as sns\n",
    "from __future__ import division\n",
    "\n",
    "alpha = 0.05\n",
    "\n",
    "# from scipy.stats import ttest_ind, ttest_1samp, ttest_rel\n",
    "import scipy.stats as stats\n",
    "\n",
    "pd.set_option('display.max_columns', 100)"
   ]
  },
  {
   "cell_type": "code",
   "execution_count": 3,
   "metadata": {
    "collapsed": true
   },
   "outputs": [],
   "source": [
    "sns.set(font_scale=1.6)\n",
    "sns.set(style='ticks')\n",
    "font = {'size' : 25}\n",
    "params = {\n",
    "    'legend.fontsize':15\n",
    "}\n",
    "plt.rc('font', **font)\n",
    "plt.rcParams.update(params)"
   ]
  },
  {
   "cell_type": "code",
   "execution_count": 4,
   "metadata": {
    "collapsed": true
   },
   "outputs": [],
   "source": [
    "df = pd.read_csv('./data/esm_filtered_3.csv')"
   ]
  },
  {
   "cell_type": "markdown",
   "metadata": {},
   "source": [
    "Drop First three artifact columns"
   ]
  },
  {
   "cell_type": "code",
   "execution_count": 5,
   "metadata": {
    "collapsed": true
   },
   "outputs": [],
   "source": [
    "cols = df.columns.tolist()\n",
    "df.drop(labels=cols[:3], axis=1, inplace=True)"
   ]
  },
  {
   "cell_type": "code",
   "execution_count": 6,
   "metadata": {},
   "outputs": [
    {
     "data": {
      "text/html": [
       "<div>\n",
       "<table border=\"1\" class=\"dataframe\">\n",
       "  <thead>\n",
       "    <tr style=\"text-align: right;\">\n",
       "      <th></th>\n",
       "      <th>row_id</th>\n",
       "      <th>user_id</th>\n",
       "      <th>record_id</th>\n",
       "      <th>recordReceived_ISO8601</th>\n",
       "      <th>recordReceived_secondsSinceMidnight1Jan1970UTC</th>\n",
       "      <th>previousResponsesOfTypeForUser</th>\n",
       "      <th>startTime_ISO8601</th>\n",
       "      <th>startTime_secondsSinceMidnight1Jan1970UTC</th>\n",
       "      <th>inResponseToAlert_id</th>\n",
       "      <th>estimatedSecondsSinceAlert</th>\n",
       "      <th>wantingAnything</th>\n",
       "      <th>whatWanting</th>\n",
       "      <th>wantingIntensity</th>\n",
       "      <th>wantedToFeel_pleasant</th>\n",
       "      <th>wantedToFeel_control</th>\n",
       "      <th>wantedToFeel_goodAboutMe</th>\n",
       "      <th>wantedToFeel_connected</th>\n",
       "      <th>wantedToFeel_comfort</th>\n",
       "      <th>wantedToFeel_calm</th>\n",
       "      <th>wantedToFeel_excited</th>\n",
       "      <th>wantedToFeel_competent</th>\n",
       "      <th>wantedToFeel_acknowledged</th>\n",
       "      <th>wantedToFeel_alert</th>\n",
       "      <th>wantedToFeel_other</th>\n",
       "      <th>wantedToFeel_specifiedOther</th>\n",
       "      <th>wantedToFeel_nothingInParticular</th>\n",
       "      <th>doing</th>\n",
       "      <th>doing_specifiedOther</th>\n",
       "      <th>withOthers</th>\n",
       "      <th>feelingBadToGood</th>\n",
       "      <th>energy</th>\n",
       "      <th>physically_hungry</th>\n",
       "      <th>physically_tired</th>\n",
       "      <th>physically_uncomfortable</th>\n",
       "      <th>physically_energized</th>\n",
       "      <th>physically_good</th>\n",
       "      <th>physically_other</th>\n",
       "      <th>physically_specifiedOther</th>\n",
       "      <th>physically_noFeeling</th>\n",
       "      <th>feeling_angry</th>\n",
       "      <th>feelingIntensity_angry</th>\n",
       "      <th>feeling_anxious</th>\n",
       "      <th>feelingIntensity_anxious</th>\n",
       "      <th>feeling_awe</th>\n",
       "      <th>feelingIntensity_awe</th>\n",
       "      <th>feeling_compassion</th>\n",
       "      <th>feelingIntensity_compassion</th>\n",
       "      <th>feeling_content</th>\n",
       "      <th>feelingIntensity_content</th>\n",
       "      <th>feeling_enthusiastic</th>\n",
       "      <th>feelingIntensity_enthusiastic</th>\n",
       "      <th>feeling_grateful</th>\n",
       "      <th>feelingIntensity_grateful</th>\n",
       "      <th>feeling_guilty</th>\n",
       "      <th>feelingIntensity_guilty</th>\n",
       "      <th>feeling_happy</th>\n",
       "      <th>feelingIntensity_happy</th>\n",
       "      <th>feeling_resentful</th>\n",
       "      <th>feelingIntensity_resentful</th>\n",
       "      <th>feeling_restless</th>\n",
       "      <th>feelingIntensity_restless</th>\n",
       "      <th>feeling_sad</th>\n",
       "      <th>feelingIntensity_sad</th>\n",
       "      <th>feeling_other</th>\n",
       "      <th>feeling_specifiedOther</th>\n",
       "      <th>feeling_noEmotion</th>\n",
       "      <th>thinkingOverAndOver</th>\n",
       "      <th>comparingToOthers</th>\n",
       "      <th>lonely</th>\n",
       "      <th>selfWorth</th>\n",
       "      <th>appreciating</th>\n",
       "      <th>stressed</th>\n",
       "      <th>endTime_ISO8601</th>\n",
       "      <th>endTime_secondsSinceMidnight1Jan1970UTC</th>\n",
       "      <th>client</th>\n",
       "    </tr>\n",
       "  </thead>\n",
       "  <tbody>\n",
       "    <tr>\n",
       "      <th>0</th>\n",
       "      <td>464179</td>\n",
       "      <td>c2822848</td>\n",
       "      <td>4691a568625.a78f14cf-a990-44fc-9d26-8dd399dfd13d</td>\n",
       "      <td>2016-05-14T19:13:16.195Z</td>\n",
       "      <td>1463253196</td>\n",
       "      <td>16</td>\n",
       "      <td>2016-05-14T15:12:05-04:00</td>\n",
       "      <td>1463253125</td>\n",
       "      <td>4691a4bd5de.2b8d43d7-ebed-4a0d-aed1-6ae4c33514a7</td>\n",
       "      <td>63.0</td>\n",
       "      <td>0.0</td>\n",
       "      <td>NaN</td>\n",
       "      <td>NaN</td>\n",
       "      <td>0</td>\n",
       "      <td>0</td>\n",
       "      <td>0</td>\n",
       "      <td>0</td>\n",
       "      <td>0</td>\n",
       "      <td>0</td>\n",
       "      <td>0</td>\n",
       "      <td>0</td>\n",
       "      <td>0</td>\n",
       "      <td>0</td>\n",
       "      <td>0</td>\n",
       "      <td>NaN</td>\n",
       "      <td>0</td>\n",
       "      <td>other</td>\n",
       "      <td>Relaxing with friends outside</td>\n",
       "      <td>2.0</td>\n",
       "      <td>0.882</td>\n",
       "      <td>0.498</td>\n",
       "      <td>0</td>\n",
       "      <td>0</td>\n",
       "      <td>0</td>\n",
       "      <td>0</td>\n",
       "      <td>1</td>\n",
       "      <td>0</td>\n",
       "      <td>NaN</td>\n",
       "      <td>0</td>\n",
       "      <td>0</td>\n",
       "      <td>NaN</td>\n",
       "      <td>0</td>\n",
       "      <td>NaN</td>\n",
       "      <td>0</td>\n",
       "      <td>NaN</td>\n",
       "      <td>0</td>\n",
       "      <td>NaN</td>\n",
       "      <td>1</td>\n",
       "      <td>0.598</td>\n",
       "      <td>0</td>\n",
       "      <td>NaN</td>\n",
       "      <td>1</td>\n",
       "      <td>0.245</td>\n",
       "      <td>0</td>\n",
       "      <td>NaN</td>\n",
       "      <td>1</td>\n",
       "      <td>0.695</td>\n",
       "      <td>0</td>\n",
       "      <td>NaN</td>\n",
       "      <td>0</td>\n",
       "      <td>NaN</td>\n",
       "      <td>0</td>\n",
       "      <td>NaN</td>\n",
       "      <td>0</td>\n",
       "      <td>NaN</td>\n",
       "      <td>0</td>\n",
       "      <td>0.005</td>\n",
       "      <td>0.259</td>\n",
       "      <td>0.007</td>\n",
       "      <td>0.500</td>\n",
       "      <td>0.998</td>\n",
       "      <td>0.042</td>\n",
       "      <td>2016-05-14T15:13:15-04:00</td>\n",
       "      <td>1463253195</td>\n",
       "      <td>1</td>\n",
       "    </tr>\n",
       "    <tr>\n",
       "      <th>1</th>\n",
       "      <td>464187</td>\n",
       "      <td>37f0423c</td>\n",
       "      <td>4691ba46297.fea93b6e-c053-4cdb-9917-a86e16e3d820</td>\n",
       "      <td>2016-05-14T19:49:44.834Z</td>\n",
       "      <td>1463255384</td>\n",
       "      <td>11</td>\n",
       "      <td>2016-05-14T15:48:07-04:00</td>\n",
       "      <td>1463255287</td>\n",
       "      <td>4691b95c728.8c2688df-4e4d-4c1c-9c0c-a4369f8873d8</td>\n",
       "      <td>166.0</td>\n",
       "      <td>2.0</td>\n",
       "      <td>A tea steeper</td>\n",
       "      <td>1.0</td>\n",
       "      <td>0</td>\n",
       "      <td>1</td>\n",
       "      <td>0</td>\n",
       "      <td>0</td>\n",
       "      <td>0</td>\n",
       "      <td>0</td>\n",
       "      <td>0</td>\n",
       "      <td>0</td>\n",
       "      <td>0</td>\n",
       "      <td>0</td>\n",
       "      <td>0</td>\n",
       "      <td>NaN</td>\n",
       "      <td>0</td>\n",
       "      <td>other</td>\n",
       "      <td>Making tea</td>\n",
       "      <td>0.0</td>\n",
       "      <td>0.833</td>\n",
       "      <td>0.815</td>\n",
       "      <td>0</td>\n",
       "      <td>0</td>\n",
       "      <td>0</td>\n",
       "      <td>0</td>\n",
       "      <td>1</td>\n",
       "      <td>0</td>\n",
       "      <td>NaN</td>\n",
       "      <td>0</td>\n",
       "      <td>0</td>\n",
       "      <td>NaN</td>\n",
       "      <td>0</td>\n",
       "      <td>NaN</td>\n",
       "      <td>0</td>\n",
       "      <td>NaN</td>\n",
       "      <td>0</td>\n",
       "      <td>NaN</td>\n",
       "      <td>0</td>\n",
       "      <td>NaN</td>\n",
       "      <td>0</td>\n",
       "      <td>NaN</td>\n",
       "      <td>0</td>\n",
       "      <td>NaN</td>\n",
       "      <td>0</td>\n",
       "      <td>NaN</td>\n",
       "      <td>0</td>\n",
       "      <td>NaN</td>\n",
       "      <td>0</td>\n",
       "      <td>NaN</td>\n",
       "      <td>0</td>\n",
       "      <td>NaN</td>\n",
       "      <td>1</td>\n",
       "      <td>0.522</td>\n",
       "      <td>0</td>\n",
       "      <td>NaN</td>\n",
       "      <td>0</td>\n",
       "      <td>0.719</td>\n",
       "      <td>0.007</td>\n",
       "      <td>0.000</td>\n",
       "      <td>0.622</td>\n",
       "      <td>0.516</td>\n",
       "      <td>0.321</td>\n",
       "      <td>2016-05-14T15:49:43-04:00</td>\n",
       "      <td>1463255383</td>\n",
       "      <td>1</td>\n",
       "    </tr>\n",
       "    <tr>\n",
       "      <th>2</th>\n",
       "      <td>464189</td>\n",
       "      <td>cf7c120d</td>\n",
       "      <td>4691bf837e8.6cb3c170-bd4a-4e40-8504-d49a900010ca</td>\n",
       "      <td>2016-05-14T19:58:53.366Z</td>\n",
       "      <td>1463255933</td>\n",
       "      <td>14</td>\n",
       "      <td>2016-05-14T15:56:57-04:00</td>\n",
       "      <td>1463255817</td>\n",
       "      <td>4691be69915.4b9af48c-4f6f-4df3-8c28-852319382a8c</td>\n",
       "      <td>307.0</td>\n",
       "      <td>2.0</td>\n",
       "      <td>To be less anxious</td>\n",
       "      <td>1.0</td>\n",
       "      <td>0</td>\n",
       "      <td>1</td>\n",
       "      <td>0</td>\n",
       "      <td>0</td>\n",
       "      <td>1</td>\n",
       "      <td>0</td>\n",
       "      <td>0</td>\n",
       "      <td>1</td>\n",
       "      <td>0</td>\n",
       "      <td>0</td>\n",
       "      <td>0</td>\n",
       "      <td>NaN</td>\n",
       "      <td>0</td>\n",
       "      <td>leisure</td>\n",
       "      <td>NaN</td>\n",
       "      <td>2.0</td>\n",
       "      <td>0.755</td>\n",
       "      <td>1.000</td>\n",
       "      <td>0</td>\n",
       "      <td>0</td>\n",
       "      <td>0</td>\n",
       "      <td>1</td>\n",
       "      <td>0</td>\n",
       "      <td>0</td>\n",
       "      <td>NaN</td>\n",
       "      <td>0</td>\n",
       "      <td>0</td>\n",
       "      <td>NaN</td>\n",
       "      <td>1</td>\n",
       "      <td>1.0</td>\n",
       "      <td>0</td>\n",
       "      <td>NaN</td>\n",
       "      <td>0</td>\n",
       "      <td>NaN</td>\n",
       "      <td>0</td>\n",
       "      <td>NaN</td>\n",
       "      <td>0</td>\n",
       "      <td>NaN</td>\n",
       "      <td>0</td>\n",
       "      <td>NaN</td>\n",
       "      <td>0</td>\n",
       "      <td>NaN</td>\n",
       "      <td>0</td>\n",
       "      <td>NaN</td>\n",
       "      <td>0</td>\n",
       "      <td>NaN</td>\n",
       "      <td>1</td>\n",
       "      <td>0.747</td>\n",
       "      <td>0</td>\n",
       "      <td>NaN</td>\n",
       "      <td>0</td>\n",
       "      <td>NaN</td>\n",
       "      <td>0</td>\n",
       "      <td>1.000</td>\n",
       "      <td>0.222</td>\n",
       "      <td>0.000</td>\n",
       "      <td>0.737</td>\n",
       "      <td>0.531</td>\n",
       "      <td>0.748</td>\n",
       "      <td>2016-05-14T15:58:52-04:00</td>\n",
       "      <td>1463255932</td>\n",
       "      <td>1</td>\n",
       "    </tr>\n",
       "  </tbody>\n",
       "</table>\n",
       "</div>"
      ],
      "text/plain": [
       "   row_id   user_id                                         record_id  \\\n",
       "0  464179  c2822848  4691a568625.a78f14cf-a990-44fc-9d26-8dd399dfd13d   \n",
       "1  464187  37f0423c  4691ba46297.fea93b6e-c053-4cdb-9917-a86e16e3d820   \n",
       "2  464189  cf7c120d  4691bf837e8.6cb3c170-bd4a-4e40-8504-d49a900010ca   \n",
       "\n",
       "     recordReceived_ISO8601  recordReceived_secondsSinceMidnight1Jan1970UTC  \\\n",
       "0  2016-05-14T19:13:16.195Z                                      1463253196   \n",
       "1  2016-05-14T19:49:44.834Z                                      1463255384   \n",
       "2  2016-05-14T19:58:53.366Z                                      1463255933   \n",
       "\n",
       "   previousResponsesOfTypeForUser          startTime_ISO8601  \\\n",
       "0                              16  2016-05-14T15:12:05-04:00   \n",
       "1                              11  2016-05-14T15:48:07-04:00   \n",
       "2                              14  2016-05-14T15:56:57-04:00   \n",
       "\n",
       "   startTime_secondsSinceMidnight1Jan1970UTC  \\\n",
       "0                                 1463253125   \n",
       "1                                 1463255287   \n",
       "2                                 1463255817   \n",
       "\n",
       "                               inResponseToAlert_id  \\\n",
       "0  4691a4bd5de.2b8d43d7-ebed-4a0d-aed1-6ae4c33514a7   \n",
       "1  4691b95c728.8c2688df-4e4d-4c1c-9c0c-a4369f8873d8   \n",
       "2  4691be69915.4b9af48c-4f6f-4df3-8c28-852319382a8c   \n",
       "\n",
       "   estimatedSecondsSinceAlert  wantingAnything         whatWanting  \\\n",
       "0                        63.0              0.0                 NaN   \n",
       "1                       166.0              2.0       A tea steeper   \n",
       "2                       307.0              2.0  To be less anxious   \n",
       "\n",
       "   wantingIntensity  wantedToFeel_pleasant  wantedToFeel_control  \\\n",
       "0               NaN                      0                     0   \n",
       "1               1.0                      0                     1   \n",
       "2               1.0                      0                     1   \n",
       "\n",
       "   wantedToFeel_goodAboutMe  wantedToFeel_connected  wantedToFeel_comfort  \\\n",
       "0                         0                       0                     0   \n",
       "1                         0                       0                     0   \n",
       "2                         0                       0                     1   \n",
       "\n",
       "   wantedToFeel_calm  wantedToFeel_excited  wantedToFeel_competent  \\\n",
       "0                  0                     0                       0   \n",
       "1                  0                     0                       0   \n",
       "2                  0                     0                       1   \n",
       "\n",
       "   wantedToFeel_acknowledged  wantedToFeel_alert  wantedToFeel_other  \\\n",
       "0                          0                   0                   0   \n",
       "1                          0                   0                   0   \n",
       "2                          0                   0                   0   \n",
       "\n",
       "  wantedToFeel_specifiedOther  wantedToFeel_nothingInParticular    doing  \\\n",
       "0                         NaN                                 0    other   \n",
       "1                         NaN                                 0    other   \n",
       "2                         NaN                                 0  leisure   \n",
       "\n",
       "            doing_specifiedOther  withOthers  feelingBadToGood  energy  \\\n",
       "0  Relaxing with friends outside         2.0             0.882   0.498   \n",
       "1                     Making tea         0.0             0.833   0.815   \n",
       "2                            NaN         2.0             0.755   1.000   \n",
       "\n",
       "   physically_hungry  physically_tired  physically_uncomfortable  \\\n",
       "0                  0                 0                         0   \n",
       "1                  0                 0                         0   \n",
       "2                  0                 0                         0   \n",
       "\n",
       "   physically_energized  physically_good  physically_other  \\\n",
       "0                     0                1                 0   \n",
       "1                     0                1                 0   \n",
       "2                     1                0                 0   \n",
       "\n",
       "  physically_specifiedOther  physically_noFeeling  feeling_angry  \\\n",
       "0                       NaN                     0              0   \n",
       "1                       NaN                     0              0   \n",
       "2                       NaN                     0              0   \n",
       "\n",
       "   feelingIntensity_angry  feeling_anxious  feelingIntensity_anxious  \\\n",
       "0                     NaN                0                       NaN   \n",
       "1                     NaN                0                       NaN   \n",
       "2                     NaN                1                       1.0   \n",
       "\n",
       "   feeling_awe  feelingIntensity_awe  feeling_compassion  \\\n",
       "0            0                   NaN                   0   \n",
       "1            0                   NaN                   0   \n",
       "2            0                   NaN                   0   \n",
       "\n",
       "   feelingIntensity_compassion  feeling_content  feelingIntensity_content  \\\n",
       "0                          NaN                1                     0.598   \n",
       "1                          NaN                0                       NaN   \n",
       "2                          NaN                0                       NaN   \n",
       "\n",
       "   feeling_enthusiastic  feelingIntensity_enthusiastic  feeling_grateful  \\\n",
       "0                     0                            NaN                 1   \n",
       "1                     0                            NaN                 0   \n",
       "2                     0                            NaN                 0   \n",
       "\n",
       "   feelingIntensity_grateful  feeling_guilty  feelingIntensity_guilty  \\\n",
       "0                      0.245               0                      NaN   \n",
       "1                        NaN               0                      NaN   \n",
       "2                        NaN               0                      NaN   \n",
       "\n",
       "   feeling_happy  feelingIntensity_happy  feeling_resentful  \\\n",
       "0              1                   0.695                  0   \n",
       "1              0                     NaN                  0   \n",
       "2              0                     NaN                  0   \n",
       "\n",
       "   feelingIntensity_resentful  feeling_restless  feelingIntensity_restless  \\\n",
       "0                         NaN                 0                        NaN   \n",
       "1                         NaN                 0                        NaN   \n",
       "2                         NaN                 1                      0.747   \n",
       "\n",
       "   feeling_sad  feelingIntensity_sad  feeling_other feeling_specifiedOther  \\\n",
       "0            0                   NaN              0                    NaN   \n",
       "1            1                 0.522              0                    NaN   \n",
       "2            0                   NaN              0                    NaN   \n",
       "\n",
       "   feeling_noEmotion  thinkingOverAndOver  comparingToOthers  lonely  \\\n",
       "0                  0                0.005              0.259   0.007   \n",
       "1                  0                0.719              0.007   0.000   \n",
       "2                  0                1.000              0.222   0.000   \n",
       "\n",
       "   selfWorth  appreciating  stressed            endTime_ISO8601  \\\n",
       "0      0.500         0.998     0.042  2016-05-14T15:13:15-04:00   \n",
       "1      0.622         0.516     0.321  2016-05-14T15:49:43-04:00   \n",
       "2      0.737         0.531     0.748  2016-05-14T15:58:52-04:00   \n",
       "\n",
       "   endTime_secondsSinceMidnight1Jan1970UTC  client  \n",
       "0                               1463253195       1  \n",
       "1                               1463255383       1  \n",
       "2                               1463255932       1  "
      ]
     },
     "execution_count": 6,
     "metadata": {},
     "output_type": "execute_result"
    }
   ],
   "source": [
    "df.head(3)"
   ]
  },
  {
   "cell_type": "code",
   "execution_count": 7,
   "metadata": {},
   "outputs": [
    {
     "data": {
      "text/plain": [
       "(6116, 75)"
      ]
     },
     "execution_count": 7,
     "metadata": {},
     "output_type": "execute_result"
    }
   ],
   "source": [
    "df.shape"
   ]
  },
  {
   "cell_type": "code",
   "execution_count": 8,
   "metadata": {},
   "outputs": [
    {
     "data": {
      "text/plain": [
       "(95,)"
      ]
     },
     "execution_count": 8,
     "metadata": {},
     "output_type": "execute_result"
    }
   ],
   "source": [
    "df['user_id'].unique().shape"
   ]
  },
  {
   "cell_type": "code",
   "execution_count": 9,
   "metadata": {},
   "outputs": [
    {
     "name": "stdout",
     "output_type": "stream",
     "text": [
      "64.3789473684\n"
     ]
    }
   ],
   "source": [
    "print df.shape[0] / df['user_id'].unique().shape[0]"
   ]
  },
  {
   "cell_type": "markdown",
   "metadata": {},
   "source": [
    "Split up columns by question"
   ]
  },
  {
   "cell_type": "code",
   "execution_count": 10,
   "metadata": {
    "collapsed": true
   },
   "outputs": [],
   "source": [
    "continuous_cols = ['wantingIntensity','feelingBadToGood', 'energy', 'thinkingOverAndOver', 'comparingToOthers', \\\n",
    "                   'stressed', 'lonely','selfWorth','appreciating']\n",
    "\n",
    "feeling_type_cols = cols[cols.index('feeling_angry'):cols.index('feelingIntensity_sad')+1:2] \\\n",
    "                        + ['feeling_other'] \\\n",
    "                        + ['feeling_noEmotion']\n",
    "        \n",
    "wanted_to_feel_cols = cols[cols.index('wantedToFeel_pleasant'):cols.index('wantedToFeel_nothingInParticular')+1]\n",
    "\n",
    "feeling_cols = cols[cols.index('feeling_angry'):cols.index('feeling_other')+1] + ['feeling_noEmotion']\n",
    "\n",
    "physical_cols = cols[cols.index('physically_hungry'):cols.index('physically_noFeeling')+1]"
   ]
  },
  {
   "cell_type": "markdown",
   "metadata": {},
   "source": [
    "# Statistical Analysis\n",
    "---"
   ]
  },
  {
   "cell_type": "markdown",
   "metadata": {},
   "source": [
    "### Test continuous scales for normality"
   ]
  },
  {
   "cell_type": "markdown",
   "metadata": {},
   "source": [
    "Shapiro-Wilks test for normality.\n",
    "<br> **Null Hypothesis:** Data is drawn from a normally distributed population. "
   ]
  },
  {
   "cell_type": "code",
   "execution_count": 10,
   "metadata": {
    "collapsed": true
   },
   "outputs": [],
   "source": [
    "a = df[continuous_cols].values\n",
    "\n",
    "a = [a.T[i][~np.isnan(a.T[i])] for i in range(a.shape[1])]"
   ]
  },
  {
   "cell_type": "code",
   "execution_count": 11,
   "metadata": {
    "collapsed": true
   },
   "outputs": [],
   "source": [
    "def is_normal(shapiro_results):\n",
    "    if shapiro_results[1] > 0.05:\n",
    "        return 'Yes'\n",
    "    else:\n",
    "        return 'No'"
   ]
  },
  {
   "cell_type": "code",
   "execution_count": 12,
   "metadata": {},
   "outputs": [
    {
     "name": "stderr",
     "output_type": "stream",
     "text": [
      "/Users/Naekid/anaconda3/envs/dsi/lib/python2.7/site-packages/scipy/stats/morestats.py:1326: UserWarning: p-value may not be accurate for N > 5000.\n",
      "  warnings.warn(\"p-value may not be accurate for N > 5000.\")\n"
     ]
    },
    {
     "data": {
      "text/html": [
       "<div>\n",
       "<table border=\"1\" class=\"dataframe\">\n",
       "  <thead>\n",
       "    <tr style=\"text-align: right;\">\n",
       "      <th></th>\n",
       "      <th>Variable</th>\n",
       "      <th># Samples</th>\n",
       "      <th>W Statistic</th>\n",
       "      <th>p-value</th>\n",
       "      <th>Normal?</th>\n",
       "    </tr>\n",
       "  </thead>\n",
       "  <tbody>\n",
       "    <tr>\n",
       "      <th>0</th>\n",
       "      <td>wantingIntensity</td>\n",
       "      <td>2879</td>\n",
       "      <td>0.954244</td>\n",
       "      <td>3.813618e-29</td>\n",
       "      <td>No</td>\n",
       "    </tr>\n",
       "    <tr>\n",
       "      <th>1</th>\n",
       "      <td>feelingBadToGood</td>\n",
       "      <td>6115</td>\n",
       "      <td>0.978339</td>\n",
       "      <td>1.574704e-29</td>\n",
       "      <td>No</td>\n",
       "    </tr>\n",
       "    <tr>\n",
       "      <th>2</th>\n",
       "      <td>energy</td>\n",
       "      <td>6115</td>\n",
       "      <td>0.981788</td>\n",
       "      <td>2.519659e-27</td>\n",
       "      <td>No</td>\n",
       "    </tr>\n",
       "    <tr>\n",
       "      <th>3</th>\n",
       "      <td>thinkingOverAndOver</td>\n",
       "      <td>6115</td>\n",
       "      <td>0.857644</td>\n",
       "      <td>0.000000e+00</td>\n",
       "      <td>No</td>\n",
       "    </tr>\n",
       "    <tr>\n",
       "      <th>4</th>\n",
       "      <td>comparingToOthers</td>\n",
       "      <td>6115</td>\n",
       "      <td>0.642247</td>\n",
       "      <td>0.000000e+00</td>\n",
       "      <td>No</td>\n",
       "    </tr>\n",
       "    <tr>\n",
       "      <th>5</th>\n",
       "      <td>stressed</td>\n",
       "      <td>6115</td>\n",
       "      <td>0.821208</td>\n",
       "      <td>0.000000e+00</td>\n",
       "      <td>No</td>\n",
       "    </tr>\n",
       "    <tr>\n",
       "      <th>6</th>\n",
       "      <td>lonely</td>\n",
       "      <td>6115</td>\n",
       "      <td>0.596511</td>\n",
       "      <td>0.000000e+00</td>\n",
       "      <td>No</td>\n",
       "    </tr>\n",
       "    <tr>\n",
       "      <th>7</th>\n",
       "      <td>selfWorth</td>\n",
       "      <td>6115</td>\n",
       "      <td>0.980225</td>\n",
       "      <td>2.325531e-28</td>\n",
       "      <td>No</td>\n",
       "    </tr>\n",
       "    <tr>\n",
       "      <th>8</th>\n",
       "      <td>appreciating</td>\n",
       "      <td>6115</td>\n",
       "      <td>0.943879</td>\n",
       "      <td>3.082857e-43</td>\n",
       "      <td>No</td>\n",
       "    </tr>\n",
       "  </tbody>\n",
       "</table>\n",
       "</div>"
      ],
      "text/plain": [
       "              Variable  # Samples  W Statistic       p-value Normal?\n",
       "0     wantingIntensity       2879     0.954244  3.813618e-29      No\n",
       "1     feelingBadToGood       6115     0.978339  1.574704e-29      No\n",
       "2               energy       6115     0.981788  2.519659e-27      No\n",
       "3  thinkingOverAndOver       6115     0.857644  0.000000e+00      No\n",
       "4    comparingToOthers       6115     0.642247  0.000000e+00      No\n",
       "5             stressed       6115     0.821208  0.000000e+00      No\n",
       "6               lonely       6115     0.596511  0.000000e+00      No\n",
       "7            selfWorth       6115     0.980225  2.325531e-28      No\n",
       "8         appreciating       6115     0.943879  3.082857e-43      No"
      ]
     },
     "execution_count": 12,
     "metadata": {},
     "output_type": "execute_result"
    }
   ],
   "source": [
    "matrix_sw = [[col, \\\n",
    "              len(a[i]) -1, \\\n",
    "              stats.shapiro(a[i])[0], \\\n",
    "              stats.shapiro(a[i])[1], \\\n",
    "              is_normal(stats.shapiro(a[i]))\\\n",
    "             ] for i,col in enumerate(continuous_cols)]\n",
    "\n",
    "shapiro_table = pd.DataFrame(matrix_sw, columns=['Variable', '# Samples', 'W Statistic', 'p-value','Normal?'])\n",
    "\n",
    "shapiro_table"
   ]
  },
  {
   "cell_type": "markdown",
   "metadata": {},
   "source": [
    "Since none of the distribution for the continuous columns are drawn from normally distributed populations, we have two options:\n",
    "1. Massage distributions until they are normal.\n",
    "2. Use only tests that do _not_ assume normality."
   ]
  },
  {
   "cell_type": "markdown",
   "metadata": {
    "collapsed": true
   },
   "source": [
    "**Use Box-Cox Power Transformation to attempt to transform Power-Log Distributions into Normal Distributions**"
   ]
  },
  {
   "cell_type": "code",
   "execution_count": 13,
   "metadata": {
    "collapsed": true
   },
   "outputs": [],
   "source": [
    "power_log_columns = continuous_cols[3:7]"
   ]
  },
  {
   "cell_type": "code",
   "execution_count": 14,
   "metadata": {},
   "outputs": [
    {
     "data": {
      "text/html": [
       "<div>\n",
       "<table border=\"1\" class=\"dataframe\">\n",
       "  <thead>\n",
       "    <tr style=\"text-align: right;\">\n",
       "      <th></th>\n",
       "      <th>Variable</th>\n",
       "      <th># Samples</th>\n",
       "      <th>W Statistic</th>\n",
       "      <th>p-value</th>\n",
       "      <th>Normal?</th>\n",
       "    </tr>\n",
       "  </thead>\n",
       "  <tbody>\n",
       "    <tr>\n",
       "      <th>0</th>\n",
       "      <td>thinkingOverAndOver</td>\n",
       "      <td>2879</td>\n",
       "      <td>0.956530</td>\n",
       "      <td>1.666833e-28</td>\n",
       "      <td>No</td>\n",
       "    </tr>\n",
       "    <tr>\n",
       "      <th>1</th>\n",
       "      <td>comparingToOthers</td>\n",
       "      <td>6115</td>\n",
       "      <td>0.983347</td>\n",
       "      <td>3.185318e-26</td>\n",
       "      <td>No</td>\n",
       "    </tr>\n",
       "    <tr>\n",
       "      <th>2</th>\n",
       "      <td>stressed</td>\n",
       "      <td>6115</td>\n",
       "      <td>0.985145</td>\n",
       "      <td>7.500629e-25</td>\n",
       "      <td>No</td>\n",
       "    </tr>\n",
       "    <tr>\n",
       "      <th>3</th>\n",
       "      <td>lonely</td>\n",
       "      <td>6115</td>\n",
       "      <td>0.860567</td>\n",
       "      <td>0.000000e+00</td>\n",
       "      <td>No</td>\n",
       "    </tr>\n",
       "  </tbody>\n",
       "</table>\n",
       "</div>"
      ],
      "text/plain": [
       "              Variable  # Samples  W Statistic       p-value Normal?\n",
       "0  thinkingOverAndOver       2879     0.956530  1.666833e-28      No\n",
       "1    comparingToOthers       6115     0.983347  3.185318e-26      No\n",
       "2             stressed       6115     0.985145  7.500629e-25      No\n",
       "3               lonely       6115     0.860567  0.000000e+00      No"
      ]
     },
     "execution_count": 14,
     "metadata": {},
     "output_type": "execute_result"
    }
   ],
   "source": [
    "matrix_bc = [\\\n",
    "    [col, \\\n",
    "    len(a[i]) -1, \\\n",
    "    stats.shapiro(stats.boxcox(a[i]+1)[0])[0], \\\n",
    "    stats.shapiro(stats.boxcox(a[i]+1)[0])[1], \\\n",
    "    is_normal(stats.shapiro((stats.boxcox(a[i]+1)[0])))\\\n",
    "    ] for i,col in enumerate(power_log_columns)\\\n",
    "]\n",
    "\n",
    "boxcox_table = pd.DataFrame(matrix_bc, columns=['Variable', '# Samples', 'W Statistic', 'p-value','Normal?'])\n",
    "\n",
    "boxcox_table"
   ]
  },
  {
   "cell_type": "code",
   "execution_count": 15,
   "metadata": {},
   "outputs": [
    {
     "data": {
      "image/png": "[encoded data removed]",
      "text/plain": [
       "<matplotlib.figure.Figure at 0x10eb12a50>"
      ]
     },
     "metadata": {},
     "output_type": "display_data"
    }
   ],
   "source": [
    "fig = plt.figure(figsize=(8,8))\n",
    "ax1 = fig.add_subplot(211)\n",
    "x = a[0]+1 # can't have 0 values in box-cox transform \n",
    "prob = stats.probplot(x, dist=stats.norm, plot=ax1)\n",
    "ax1.set_xlabel('')\n",
    "ax1.set_title('Probplot against normal distribution')\n",
    "\n",
    "ax2 = fig.add_subplot(212)\n",
    "xt, _ = stats.boxcox(a[0]+1)\n",
    "prob = stats.probplot(xt, dist=stats.norm, plot=ax2)\n",
    "ax2.set_title('Probplot after Box-Cox transformation')\n",
    "\n",
    "plt.tight_layout()"
   ]
  },
  {
   "cell_type": "markdown",
   "metadata": {},
   "source": [
    "Attempting to transform log-normal distribution..."
   ]
  },
  {
   "cell_type": "code",
   "execution_count": 16,
   "metadata": {},
   "outputs": [
    {
     "ename": "NameError",
     "evalue": "name 'idf' is not defined",
     "output_type": "error",
     "traceback": [
      "\u001b[0;31m---------------------------------------------------------------------------\u001b[0m",
      "\u001b[0;31mNameError\u001b[0m                                 Traceback (most recent call last)",
      "\u001b[0;32m<ipython-input-16-dbb11b314eca>\u001b[0m in \u001b[0;36m<module>\u001b[0;34m()\u001b[0m\n\u001b[1;32m      1\u001b[0m \u001b[0;31m# Transform assuming log-normal distribtuion and Filter out infinites\u001b[0m\u001b[0;34m\u001b[0m\u001b[0;34m\u001b[0m\u001b[0m\n\u001b[0;32m----> 2\u001b[0;31m \u001b[0mnp\u001b[0m\u001b[0;34m.\u001b[0m\u001b[0mlog\u001b[0m\u001b[0;34m(\u001b[0m\u001b[0midf\u001b[0m\u001b[0;34m[\u001b[0m\u001b[0;34m'comparingToOthers'\u001b[0m\u001b[0;34m]\u001b[0m\u001b[0;34m.\u001b[0m\u001b[0mvalues\u001b[0m\u001b[0;34m)\u001b[0m\u001b[0;34m[\u001b[0m\u001b[0mnp\u001b[0m\u001b[0;34m.\u001b[0m\u001b[0misfinite\u001b[0m\u001b[0;34m(\u001b[0m\u001b[0mnp\u001b[0m\u001b[0;34m.\u001b[0m\u001b[0mlog\u001b[0m\u001b[0;34m(\u001b[0m\u001b[0midf\u001b[0m\u001b[0;34m[\u001b[0m\u001b[0;34m'comparingToOthers'\u001b[0m\u001b[0;34m]\u001b[0m\u001b[0;34m.\u001b[0m\u001b[0mvalues\u001b[0m\u001b[0;34m)\u001b[0m\u001b[0;34m)\u001b[0m\u001b[0;34m]\u001b[0m\u001b[0;34m\u001b[0m\u001b[0m\n\u001b[0m",
      "\u001b[0;31mNameError\u001b[0m: name 'idf' is not defined"
     ]
    }
   ],
   "source": [
    "# Transform assuming log-normal distribtuion and Filter out infinites\n",
    "np.log(idf['comparingToOthers'].values)[np.isfinite(np.log(idf['comparingToOthers'].values))]"
   ]
  },
  {
   "cell_type": "markdown",
   "metadata": {
    "collapsed": true
   },
   "source": [
    "Well that didn't work"
   ]
  },
  {
   "cell_type": "markdown",
   "metadata": {},
   "source": [
    "## Amount of Variability\n",
    "---\n",
    "\n",
    "### Within-Person Variability\n",
    "\n",
    "Magnitude of single participant’s WPV Defined as the standard deviation across the recorded states for that participant.\n",
    "<br>\n",
    "For each person, we need to find the standard deviation for each continuous distribution. Then we can take the average of all of those standard deviations.\n"
   ]
  },
  {
   "cell_type": "code",
   "execution_count": 17,
   "metadata": {
    "collapsed": true
   },
   "outputs": [],
   "source": [
    "wpv = df[['user_id']+continuous_cols].groupby(by='user_id').std()"
   ]
  },
  {
   "cell_type": "code",
   "execution_count": 18,
   "metadata": {},
   "outputs": [
    {
     "data": {
      "text/html": [
       "<div>\n",
       "<table border=\"1\" class=\"dataframe\">\n",
       "  <thead>\n",
       "    <tr style=\"text-align: right;\">\n",
       "      <th></th>\n",
       "      <th>wantingIntensity</th>\n",
       "      <th>feelingBadToGood</th>\n",
       "      <th>energy</th>\n",
       "      <th>thinkingOverAndOver</th>\n",
       "      <th>comparingToOthers</th>\n",
       "      <th>stressed</th>\n",
       "      <th>lonely</th>\n",
       "      <th>selfWorth</th>\n",
       "      <th>appreciating</th>\n",
       "    </tr>\n",
       "    <tr>\n",
       "      <th>user_id</th>\n",
       "      <th></th>\n",
       "      <th></th>\n",
       "      <th></th>\n",
       "      <th></th>\n",
       "      <th></th>\n",
       "      <th></th>\n",
       "      <th></th>\n",
       "      <th></th>\n",
       "      <th></th>\n",
       "    </tr>\n",
       "  </thead>\n",
       "  <tbody>\n",
       "    <tr>\n",
       "      <th>04ea2b46</th>\n",
       "      <td>0.187234</td>\n",
       "      <td>0.206755</td>\n",
       "      <td>0.201197</td>\n",
       "      <td>0.188323</td>\n",
       "      <td>0.204259</td>\n",
       "      <td>0.267037</td>\n",
       "      <td>0.043698</td>\n",
       "      <td>0.179078</td>\n",
       "      <td>0.218274</td>\n",
       "    </tr>\n",
       "    <tr>\n",
       "      <th>04f1e745</th>\n",
       "      <td>0.200772</td>\n",
       "      <td>0.177522</td>\n",
       "      <td>0.205852</td>\n",
       "      <td>0.244214</td>\n",
       "      <td>0.189587</td>\n",
       "      <td>0.149132</td>\n",
       "      <td>0.023154</td>\n",
       "      <td>0.145913</td>\n",
       "      <td>0.232035</td>\n",
       "    </tr>\n",
       "    <tr>\n",
       "      <th>0835e410</th>\n",
       "      <td>0.219141</td>\n",
       "      <td>0.217410</td>\n",
       "      <td>0.253691</td>\n",
       "      <td>0.315043</td>\n",
       "      <td>0.245512</td>\n",
       "      <td>0.286689</td>\n",
       "      <td>0.234694</td>\n",
       "      <td>0.233212</td>\n",
       "      <td>0.313325</td>\n",
       "    </tr>\n",
       "    <tr>\n",
       "      <th>0d6a442f</th>\n",
       "      <td>0.170671</td>\n",
       "      <td>0.145326</td>\n",
       "      <td>0.164166</td>\n",
       "      <td>0.297362</td>\n",
       "      <td>0.177027</td>\n",
       "      <td>0.218210</td>\n",
       "      <td>0.262391</td>\n",
       "      <td>0.165726</td>\n",
       "      <td>0.194613</td>\n",
       "    </tr>\n",
       "    <tr>\n",
       "      <th>15f0de2b</th>\n",
       "      <td>0.145282</td>\n",
       "      <td>0.102775</td>\n",
       "      <td>0.102310</td>\n",
       "      <td>0.198129</td>\n",
       "      <td>0.150125</td>\n",
       "      <td>0.157603</td>\n",
       "      <td>0.219634</td>\n",
       "      <td>0.179480</td>\n",
       "      <td>0.174747</td>\n",
       "    </tr>\n",
       "  </tbody>\n",
       "</table>\n",
       "</div>"
      ],
      "text/plain": [
       "          wantingIntensity  feelingBadToGood    energy  thinkingOverAndOver  \\\n",
       "user_id                                                                       \n",
       "04ea2b46          0.187234          0.206755  0.201197             0.188323   \n",
       "04f1e745          0.200772          0.177522  0.205852             0.244214   \n",
       "0835e410          0.219141          0.217410  0.253691             0.315043   \n",
       "0d6a442f          0.170671          0.145326  0.164166             0.297362   \n",
       "15f0de2b          0.145282          0.102775  0.102310             0.198129   \n",
       "\n",
       "          comparingToOthers  stressed    lonely  selfWorth  appreciating  \n",
       "user_id                                                                   \n",
       "04ea2b46           0.204259  0.267037  0.043698   0.179078      0.218274  \n",
       "04f1e745           0.189587  0.149132  0.023154   0.145913      0.232035  \n",
       "0835e410           0.245512  0.286689  0.234694   0.233212      0.313325  \n",
       "0d6a442f           0.177027  0.218210  0.262391   0.165726      0.194613  \n",
       "15f0de2b           0.150125  0.157603  0.219634   0.179480      0.174747  "
      ]
     },
     "execution_count": 18,
     "metadata": {},
     "output_type": "execute_result"
    }
   ],
   "source": [
    "wpv.head()"
   ]
  },
  {
   "cell_type": "markdown",
   "metadata": {},
   "source": [
    "### Average Within-Person Variability"
   ]
  },
  {
   "cell_type": "code",
   "execution_count": 19,
   "metadata": {
    "collapsed": true
   },
   "outputs": [],
   "source": [
    "average_wpv = wpv.apply(func=np.mean, axis=0)\n",
    "average_wpv.name = 'Average WPV'"
   ]
  },
  {
   "cell_type": "code",
   "execution_count": 20,
   "metadata": {},
   "outputs": [
    {
     "data": {
      "text/plain": [
       "wantingIntensity       0.187800\n",
       "feelingBadToGood       0.165369\n",
       "energy                 0.189483\n",
       "thinkingOverAndOver    0.220826\n",
       "comparingToOthers      0.144725\n",
       "stressed               0.204926\n",
       "lonely                 0.116550\n",
       "selfWorth              0.142761\n",
       "appreciating           0.250995\n",
       "Name: Average WPV, dtype: float64"
      ]
     },
     "execution_count": 20,
     "metadata": {},
     "output_type": "execute_result"
    }
   ],
   "source": [
    "average_wpv"
   ]
  },
  {
   "cell_type": "markdown",
   "metadata": {},
   "source": [
    "### Total Variation"
   ]
  },
  {
   "cell_type": "markdown",
   "metadata": {},
   "source": [
    "Total Variation = standard deviation of each parameter across the entire data set. "
   ]
  },
  {
   "cell_type": "code",
   "execution_count": 39,
   "metadata": {},
   "outputs": [
    {
     "data": {
      "text/plain": [
       "wantingIntensity       0.224586\n",
       "feelingBadToGood       0.201768\n",
       "energy                 0.224217\n",
       "thinkingOverAndOver    0.295584\n",
       "comparingToOthers      0.189972\n",
       "stressed               0.257726\n",
       "lonely                 0.171929\n",
       "selfWorth              0.186167\n",
       "appreciating           0.307707\n",
       "Name: Total Variation, dtype: float64"
      ]
     },
     "execution_count": 39,
     "metadata": {},
     "output_type": "execute_result"
    }
   ],
   "source": [
    "total_variation = df[continuous_cols].apply(np.std, axis=0)\n",
    "total_variation.name = 'Total Variation'\n",
    "total_variation"
   ]
  },
  {
   "cell_type": "code",
   "execution_count": 49,
   "metadata": {
    "collapsed": true
   },
   "outputs": [],
   "source": [
    "variation = pd.concat(objs=[average_wpv, total_variation], axis=1)"
   ]
  },
  {
   "cell_type": "code",
   "execution_count": 50,
   "metadata": {
    "collapsed": true
   },
   "outputs": [],
   "source": [
    "variation['Diff (%)'] = variation['Average WPV']/variation['Total Variation']"
   ]
  },
  {
   "cell_type": "code",
   "execution_count": 51,
   "metadata": {
    "collapsed": true
   },
   "outputs": [],
   "source": [
    "variation['Diff (%)'] = variation['Diff (%)'].apply(lambda x: round(x,3))"
   ]
  },
  {
   "cell_type": "code",
   "execution_count": 52,
   "metadata": {},
   "outputs": [
    {
     "data": {
      "text/html": [
       "<div>\n",
       "<table border=\"1\" class=\"dataframe\">\n",
       "  <thead>\n",
       "    <tr style=\"text-align: right;\">\n",
       "      <th></th>\n",
       "      <th>Average WPV</th>\n",
       "      <th>Total Variation</th>\n",
       "      <th>Diff (%)</th>\n",
       "    </tr>\n",
       "  </thead>\n",
       "  <tbody>\n",
       "    <tr>\n",
       "      <th>wantingIntensity</th>\n",
       "      <td>0.187800</td>\n",
       "      <td>0.224586</td>\n",
       "      <td>0.836</td>\n",
       "    </tr>\n",
       "    <tr>\n",
       "      <th>feelingBadToGood</th>\n",
       "      <td>0.165369</td>\n",
       "      <td>0.201768</td>\n",
       "      <td>0.820</td>\n",
       "    </tr>\n",
       "    <tr>\n",
       "      <th>energy</th>\n",
       "      <td>0.189483</td>\n",
       "      <td>0.224217</td>\n",
       "      <td>0.845</td>\n",
       "    </tr>\n",
       "    <tr>\n",
       "      <th>thinkingOverAndOver</th>\n",
       "      <td>0.220826</td>\n",
       "      <td>0.295584</td>\n",
       "      <td>0.747</td>\n",
       "    </tr>\n",
       "    <tr>\n",
       "      <th>comparingToOthers</th>\n",
       "      <td>0.144725</td>\n",
       "      <td>0.189972</td>\n",
       "      <td>0.762</td>\n",
       "    </tr>\n",
       "    <tr>\n",
       "      <th>stressed</th>\n",
       "      <td>0.204926</td>\n",
       "      <td>0.257726</td>\n",
       "      <td>0.795</td>\n",
       "    </tr>\n",
       "    <tr>\n",
       "      <th>lonely</th>\n",
       "      <td>0.116550</td>\n",
       "      <td>0.171929</td>\n",
       "      <td>0.678</td>\n",
       "    </tr>\n",
       "    <tr>\n",
       "      <th>selfWorth</th>\n",
       "      <td>0.142761</td>\n",
       "      <td>0.186167</td>\n",
       "      <td>0.767</td>\n",
       "    </tr>\n",
       "    <tr>\n",
       "      <th>appreciating</th>\n",
       "      <td>0.250995</td>\n",
       "      <td>0.307707</td>\n",
       "      <td>0.816</td>\n",
       "    </tr>\n",
       "  </tbody>\n",
       "</table>\n",
       "</div>"
      ],
      "text/plain": [
       "                     Average WPV  Total Variation  Diff (%)\n",
       "wantingIntensity        0.187800         0.224586     0.836\n",
       "feelingBadToGood        0.165369         0.201768     0.820\n",
       "energy                  0.189483         0.224217     0.845\n",
       "thinkingOverAndOver     0.220826         0.295584     0.747\n",
       "comparingToOthers       0.144725         0.189972     0.762\n",
       "stressed                0.204926         0.257726     0.795\n",
       "lonely                  0.116550         0.171929     0.678\n",
       "selfWorth               0.142761         0.186167     0.767\n",
       "appreciating            0.250995         0.307707     0.816"
      ]
     },
     "execution_count": 52,
     "metadata": {},
     "output_type": "execute_result"
    }
   ],
   "source": [
    "variation"
   ]
  },
  {
   "cell_type": "code",
   "execution_count": 124,
   "metadata": {},
   "outputs": [
    {
     "data": {
      "text/plain": [
       "<matplotlib.axes._subplots.AxesSubplot at 0x123d9d510>"
      ]
     },
     "execution_count": 124,
     "metadata": {},
     "output_type": "execute_result"
    },
    {
     "data": {
      "image/png": "[encoded data removed]",
      "text/plain": [
       "<matplotlib.figure.Figure at 0x12485e910>"
      ]
     },
     "metadata": {},
     "output_type": "display_data"
    }
   ],
   "source": [
    "my_colors = [(0.5,0.8,0.5), (0.2, 0.3, 0.5)]\n",
    "\n",
    "variation[[variation.columns[1]] + [variation.columns[0]]].iloc[:,:2].plot(kind='bar', rot=90, color=my_colors,fontsize=15, figsize=(15,10))\n",
    "\n",
    "# plt.savefig('./images-esm/variations.png')"
   ]
  },
  {
   "cell_type": "markdown",
   "metadata": {},
   "source": [
    "Average Within-Person Variation < Total variation for all variables. Although we would need to test with ANOVA to actually compare the two sets of variable means. "
   ]
  },
  {
   "cell_type": "markdown",
   "metadata": {
    "collapsed": true
   },
   "source": [
    "### Between-Person Variation\n",
    "calculated by taking the mean for each emotion/state for each person (which creates a distribution of means) and then calculating the standard deviation of the resulting distribution of means."
   ]
  },
  {
   "cell_type": "code",
   "execution_count": 54,
   "metadata": {},
   "outputs": [
    {
     "data": {
      "text/plain": [
       "wantingIntensity       0.119702\n",
       "feelingBadToGood       0.108196\n",
       "energy                 0.113790\n",
       "thinkingOverAndOver    0.184435\n",
       "comparingToOthers      0.100787\n",
       "Name: Between-Person Variation, dtype: float64"
      ]
     },
     "execution_count": 54,
     "metadata": {},
     "output_type": "execute_result"
    }
   ],
   "source": [
    "bpv = df[['user_id']+continuous_cols].groupby(by='user_id').mean().std()\n",
    "\n",
    "bpv.name = 'Between-Person Variation'\n",
    "\n",
    "bpv.head()"
   ]
  },
  {
   "cell_type": "code",
   "execution_count": 56,
   "metadata": {},
   "outputs": [
    {
     "data": {
      "text/html": [
       "<div>\n",
       "<table border=\"1\" class=\"dataframe\">\n",
       "  <thead>\n",
       "    <tr style=\"text-align: right;\">\n",
       "      <th></th>\n",
       "      <th>Average WPV</th>\n",
       "      <th>Total Variation</th>\n",
       "      <th>Between-Person Variation</th>\n",
       "    </tr>\n",
       "  </thead>\n",
       "  <tbody>\n",
       "    <tr>\n",
       "      <th>wantingIntensity</th>\n",
       "      <td>0.187800</td>\n",
       "      <td>0.224586</td>\n",
       "      <td>0.119702</td>\n",
       "    </tr>\n",
       "    <tr>\n",
       "      <th>feelingBadToGood</th>\n",
       "      <td>0.165369</td>\n",
       "      <td>0.201768</td>\n",
       "      <td>0.108196</td>\n",
       "    </tr>\n",
       "    <tr>\n",
       "      <th>energy</th>\n",
       "      <td>0.189483</td>\n",
       "      <td>0.224217</td>\n",
       "      <td>0.113790</td>\n",
       "    </tr>\n",
       "    <tr>\n",
       "      <th>thinkingOverAndOver</th>\n",
       "      <td>0.220826</td>\n",
       "      <td>0.295584</td>\n",
       "      <td>0.184435</td>\n",
       "    </tr>\n",
       "    <tr>\n",
       "      <th>comparingToOthers</th>\n",
       "      <td>0.144725</td>\n",
       "      <td>0.189972</td>\n",
       "      <td>0.100787</td>\n",
       "    </tr>\n",
       "  </tbody>\n",
       "</table>\n",
       "</div>"
      ],
      "text/plain": [
       "                     Average WPV  Total Variation  Between-Person Variation\n",
       "wantingIntensity        0.187800         0.224586                  0.119702\n",
       "feelingBadToGood        0.165369         0.201768                  0.108196\n",
       "energy                  0.189483         0.224217                  0.113790\n",
       "thinkingOverAndOver     0.220826         0.295584                  0.184435\n",
       "comparingToOthers       0.144725         0.189972                  0.100787"
      ]
     },
     "execution_count": 56,
     "metadata": {},
     "output_type": "execute_result"
    }
   ],
   "source": [
    "all_variations = pd.concat(objs=[variation,bpv], axis=1).drop(labels='Diff (%)', axis=1)\n",
    "\n",
    "all_variations.head()"
   ]
  },
  {
   "cell_type": "code",
   "execution_count": 123,
   "metadata": {},
   "outputs": [
    {
     "data": {
      "image/png": "[encoded data removed]",
      "text/plain": [
       "<matplotlib.figure.Figure at 0x124156e90>"
      ]
     },
     "metadata": {},
     "output_type": "display_data"
    }
   ],
   "source": [
    "all_variations[[all_variations.columns[1]] + [all_variations.columns[0]] + [all_variations.columns[2]]]\\\n",
    "    .plot(kind='bar', sort_columns=True, fontsize=15, figsize=(15,10), \\\n",
    "          colormap='Accent', \\\n",
    "          title='Within-Person Variation, Between-Person Variation, and Total Variation')\n",
    "    \n",
    "plt.savefig('./images-esm/all-variations.png')"
   ]
  },
  {
   "cell_type": "markdown",
   "metadata": {
    "collapsed": true
   },
   "source": [
    "1. Distribution of the means for continuous variables \n",
    "2. Figure out what requirements of ANOVA are \n",
    "3. Think about what visualizations we want to do \n",
    "4. Recreate time-series plots with standardized times \n",
    "5. Read up on \"Tutorial on Count Reression and Zero-Inflated Models\" to explore how to handle our distributions "
   ]
  },
  {
   "cell_type": "markdown",
   "metadata": {
    "collapsed": true
   },
   "source": [
    "### Distribution of the Means"
   ]
  },
  {
   "cell_type": "code",
   "execution_count": 12,
   "metadata": {},
   "outputs": [],
   "source": [
    "means = df[['user_id']+continuous_cols].groupby(by='user_id').mean()"
   ]
  },
  {
   "cell_type": "code",
   "execution_count": 15,
   "metadata": {},
   "outputs": [
    {
     "data": {
      "image/png": "[encoded data removed]",
      "text/plain": [
       "<matplotlib.figure.Figure at 0x11436d490>"
      ]
     },
     "metadata": {},
     "output_type": "display_data"
    }
   ],
   "source": [
    "bins = 20\n",
    "plt.figure(figsize=(17,17))\n",
    "\n",
    "sns.set(font_scale=1.4, style='ticks')\n",
    "for i in range(9):\n",
    "    plt.subplot(3, 4, i+1)\n",
    "    sns.distplot(a=means[continuous_cols[i]].dropna(axis=0).values, bins=bins, norm_hist=True, kde=False, color='blue', hist_kws={'alpha':0.6}, kde_kws={'color':'red', 'linewidth':1.5, 'alpha':0.6})\n",
    "    plt.title('Histogram of {}'.format(continuous_cols[i]))\n",
    "    \n",
    "# plt.savefig('./images-esm/Histogram of Continuous Variables')"
   ]
  },
  {
   "cell_type": "markdown",
   "metadata": {},
   "source": [
    "1. Finish time standardization\n",
    "2. Create Christies plots\n",
    "2. b. Wrap plotting functions \n",
    "3. Read distributions paper \n",
    "4. Look into massaging data "
   ]
  },
  {
   "cell_type": "code",
   "execution_count": null,
   "metadata": {
    "collapsed": true
   },
   "outputs": [],
   "source": []
  }
 ],
 "metadata": {
  "anaconda-cloud": {},
  "kernelspec": {
   "display_name": "Python 2",
   "language": "python",
   "name": "python2"
  },
  "language_info": {
   "codemirror_mode": {
    "name": "ipython",
    "version": 2
   },
   "file_extension": ".py",
   "mimetype": "text/x-python",
   "name": "python",
   "nbconvert_exporter": "python",
   "pygments_lexer": "ipython2",
   "version": "2.7.13"
  }
 },
 "nbformat": 4,
 "nbformat_minor": 2
}
