{
 "cells": [
  {
   "cell_type": "code",
   "execution_count": 56,
   "metadata": {
    "collapsed": true,
    "deletable": true,
    "editable": true
   },
   "outputs": [],
   "source": [
    "from __future__ import print_function\n",
    "from time import time\n",
    "\n",
    "import numpy as np\n",
    "import matplotlib.pyplot as plt\n",
    "%matplotlib inline\n",
    "\n",
    "from sklearn.feature_extraction.text import TfidfVectorizer, CountVectorizer\n",
    "from sklearn.decomposition import NMF, LatentDirichletAllocation\n",
    "from sklearn.datasets import fetch_20newsgroups\n",
    "\n",
    "n_samples = 2000\n",
    "n_features = 1000\n",
    "n_topics = 20\n",
    "n_top_words = 20\n",
    "\n",
    "\n",
    "def print_top_words(model, feature_names, n_top_words):\n",
    "    for topic_idx, topic in enumerate(model.components_):\n",
    "        print(\"Topic #%d:\" % topic_idx)\n",
    "        print(\" \".join([feature_names[i]\n",
    "                        for i in topic.argsort()[:-n_top_words - 1:-1]]))\n",
    "    print()"
   ]
  },
  {
   "cell_type": "markdown",
   "metadata": {
    "deletable": true,
    "editable": true
   },
   "source": [
    "# Basic NMF Example"
   ]
  },
  {
   "cell_type": "code",
   "execution_count": 63,
   "metadata": {
    "collapsed": true,
    "deletable": true,
    "editable": true
   },
   "outputs": [],
   "source": [
    "X = np.array([[1,1], [2, 1], [3, 1.2], [4, 1], [5, 0.8], [6, 1], [10,6],[6,6]])"
   ]
  },
  {
   "cell_type": "code",
   "execution_count": 64,
   "metadata": {
    "collapsed": false,
    "deletable": true,
    "editable": true
   },
   "outputs": [
    {
     "data": {
      "text/plain": [
       "array([[  1. ,   1. ],\n",
       "       [  2. ,   1. ],\n",
       "       [  3. ,   1.2],\n",
       "       [  4. ,   1. ],\n",
       "       [  5. ,   0.8],\n",
       "       [  6. ,   1. ],\n",
       "       [ 10. ,   6. ],\n",
       "       [  6. ,   6. ]])"
      ]
     },
     "execution_count": 64,
     "metadata": {},
     "output_type": "execute_result"
    }
   ],
   "source": [
    "X"
   ]
  },
  {
   "cell_type": "code",
   "execution_count": 72,
   "metadata": {
    "collapsed": false,
    "deletable": true,
    "editable": true
   },
   "outputs": [
    {
     "data": {
      "text/plain": [
       "{'alpha': 0.0,\n",
       " 'beta': 1,\n",
       " 'eta': 0.1,\n",
       " 'init': 'random',\n",
       " 'l1_ratio': 0.0,\n",
       " 'max_iter': 200,\n",
       " 'n_components': 4,\n",
       " 'nls_max_iter': 2000,\n",
       " 'random_state': 0,\n",
       " 'shuffle': False,\n",
       " 'solver': 'cd',\n",
       " 'sparseness': None,\n",
       " 'tol': 0.0001,\n",
       " 'verbose': 0}"
      ]
     },
     "execution_count": 72,
     "metadata": {},
     "output_type": "execute_result"
    }
   ],
   "source": [
    "model = NMF(n_components=4, init='random', random_state=0)\n",
    "model.fit(X) \n",
    "model.get_params()"
   ]
  },
  {
   "cell_type": "code",
   "execution_count": 73,
   "metadata": {
    "collapsed": false,
    "deletable": true,
    "editable": true
   },
   "outputs": [
    {
     "data": {
      "text/plain": [
       "array([[ 1.60703226,  0.30957178],\n",
       "       [ 0.7949416 ,  2.38099631],\n",
       "       [ 2.0144396 ,  0.        ],\n",
       "       [ 0.85920753,  0.18398638]])"
      ]
     },
     "execution_count": 73,
     "metadata": {},
     "output_type": "execute_result"
    }
   ],
   "source": [
    "model.components_"
   ]
  },
  {
   "cell_type": "code",
   "execution_count": 67,
   "metadata": {
    "collapsed": false,
    "deletable": true,
    "editable": true
   },
   "outputs": [
    {
     "data": {
      "text/plain": [
       "0.001859497016990331"
      ]
     },
     "execution_count": 67,
     "metadata": {},
     "output_type": "execute_result"
    }
   ],
   "source": [
    "model.reconstruction_err_ "
   ]
  },
  {
   "cell_type": "code",
   "execution_count": 68,
   "metadata": {
    "collapsed": false,
    "deletable": true,
    "editable": true
   },
   "outputs": [],
   "source": [
    "errors = []\n",
    "num_components = 5\n",
    "for i in range(1,num_components+1):\n",
    "    model = NMF(n_components=i, \n",
    "                init='random', \n",
    "                random_state=0)\n",
    "    model.fit(X)\n",
    "    errors.append(model.reconstruction_err_)"
   ]
  },
  {
   "cell_type": "code",
   "execution_count": 69,
   "metadata": {
    "collapsed": false,
    "deletable": true,
    "editable": true
   },
   "outputs": [
    {
     "data": {
      "text/plain": [
       "[<matplotlib.lines.Line2D at 0x113531950>]"
      ]
     },
     "execution_count": 69,
     "metadata": {},
     "output_type": "execute_result"
    },
    {
     "data": {
      "image/png": "[encoded data removed]",
      "text/plain": [
       "<matplotlib.figure.Figure at 0x1134bf110>"
      ]
     },
     "metadata": {},
     "output_type": "display_data"
    }
   ],
   "source": [
    "# Plot errors\n",
    "plt.plot(np.arange(1,num_components+1,1), errors)"
   ]
  },
  {
   "cell_type": "markdown",
   "metadata": {
    "deletable": true,
    "editable": true
   },
   "source": [
    "# Using NMF on newsgroups dataset"
   ]
  },
  {
   "cell_type": "code",
   "execution_count": 11,
   "metadata": {
    "collapsed": false,
    "deletable": true,
    "editable": true
   },
   "outputs": [
    {
     "name": "stdout",
     "output_type": "stream",
     "text": [
      "Loading dataset...\n",
      "done in 2.028s.\n"
     ]
    }
   ],
   "source": [
    "# Load the 20 newsgroups dataset and vectorize it. We use a few heuristics\n",
    "# to filter out useless terms early on: the posts are stripped of headers,\n",
    "# footers and quoted replies, and common English words, words occurring in\n",
    "# only one document or in at least 95% of the documents are removed.\n",
    "\n",
    "print(\"Loading dataset...\")\n",
    "t0 = time()\n",
    "dataset = fetch_20newsgroups(shuffle=True, random_state=1,\n",
    "                             remove=('headers', 'footers', 'quotes'))\n",
    "data_samples = dataset.data[:n_samples]\n",
    "print(\"done in %0.3fs.\" % (time() - t0))"
   ]
  },
  {
   "cell_type": "code",
   "execution_count": 9,
   "metadata": {
    "collapsed": false,
    "deletable": true,
    "editable": true
   },
   "outputs": [
    {
     "name": "stdout",
     "output_type": "stream",
     "text": [
      "['alt.atheism',\n",
      " 'comp.graphics',\n",
      " 'comp.os.ms-windows.misc',\n",
      " 'comp.sys.ibm.pc.hardware',\n",
      " 'comp.sys.mac.hardware',\n",
      " 'comp.windows.x',\n",
      " 'misc.forsale',\n",
      " 'rec.autos',\n",
      " 'rec.motorcycles',\n",
      " 'rec.sport.baseball',\n",
      " 'rec.sport.hockey',\n",
      " 'sci.crypt',\n",
      " 'sci.electronics',\n",
      " 'sci.med',\n",
      " 'sci.space',\n",
      " 'soc.religion.christian',\n",
      " 'talk.politics.guns',\n",
      " 'talk.politics.mideast',\n",
      " 'talk.politics.misc',\n",
      " 'talk.religion.misc']\n"
     ]
    }
   ],
   "source": [
    "from pprint import pprint\n",
    "pprint(list(dataset.target_names))"
   ]
  },
  {
   "cell_type": "code",
   "execution_count": 3,
   "metadata": {
    "collapsed": false,
    "deletable": true,
    "editable": true
   },
   "outputs": [
    {
     "name": "stdout",
     "output_type": "stream",
     "text": [
      "Extracting tf-idf features for NMF...\n",
      "done in 0.533s.\n"
     ]
    }
   ],
   "source": [
    "# Use tf-idf features for NMF.\n",
    "print(\"Extracting tf-idf features for NMF...\")\n",
    "tfidf_vectorizer = TfidfVectorizer(max_df=0.95, min_df=2,\n",
    "                                   max_features=n_features,\n",
    "                                   stop_words='english')\n",
    "t0 = time()\n",
    "tfidf = tfidf_vectorizer.fit_transform(data_samples)\n",
    "print(\"done in %0.3fs.\" % (time() - t0))"
   ]
  },
  {
   "cell_type": "code",
   "execution_count": 5,
   "metadata": {
    "collapsed": false,
    "deletable": true,
    "editable": true
   },
   "outputs": [
    {
     "name": "stdout",
     "output_type": "stream",
     "text": [
      "Extracting tf features for LDA...\n",
      "done in 0.447s.\n"
     ]
    }
   ],
   "source": [
    "# Use tf (raw term count) features for LDA.\n",
    "print(\"Extracting tf features for LDA...\")\n",
    "tf_vectorizer = CountVectorizer(max_df=0.95, min_df=2,\n",
    "                                max_features=n_features,\n",
    "                                stop_words='english')\n",
    "t0 = time()\n",
    "tf = tf_vectorizer.fit_transform(data_samples)\n",
    "print(\"done in %0.3fs.\" % (time() - t0))"
   ]
  },
  {
   "cell_type": "code",
   "execution_count": 12,
   "metadata": {
    "collapsed": false,
    "deletable": true,
    "editable": true
   },
   "outputs": [
    {
     "name": "stdout",
     "output_type": "stream",
     "text": [
      "Fitting the NMF model with tf-idf features, n_samples=2000 and n_features=1000...\n",
      "done in 0.154s.\n"
     ]
    }
   ],
   "source": [
    "# Fit the NMF model\n",
    "print(\"Fitting the NMF model with tf-idf features, \"\n",
    "      \"n_samples=%d and n_features=%d...\"\n",
    "      % (n_samples, n_features))\n",
    "t0 = time()\n",
    "nmf = NMF(n_components=n_topics, random_state=1,\n",
    "          alpha=.1, l1_ratio=.5).fit(tfidf)\n",
    "print(\"done in %0.3fs.\" % (time() - t0))"
   ]
  },
  {
   "cell_type": "code",
   "execution_count": 25,
   "metadata": {
    "collapsed": true,
    "deletable": true,
    "editable": true
   },
   "outputs": [],
   "source": [
    "def print_top_words(model, feature_names, n_top_words):\n",
    "    for topic_idx, topic in enumerate(model.components_):\n",
    "        print(\"Topic #%d:\" % topic_idx)\n",
    "        print(\" \".join([feature_names[i]\n",
    "                        for i in topic.argsort()[:-n_top_words - 1:-1]]))\n",
    "    print()"
   ]
  },
  {
   "cell_type": "code",
   "execution_count": 35,
   "metadata": {
    "collapsed": false,
    "deletable": true,
    "editable": true
   },
   "outputs": [
    {
     "data": {
      "text/plain": [
       "array([ 0.72092607,  0.66229987,  0.65681924,  0.4751504 ,  0.47399834,\n",
       "        0.44494586,  0.3725007 ,  0.36745565,  0.35805998,  0.35436103,\n",
       "        0.34673472,  0.34011937,  0.32678916,  0.32180633,  0.29817074,\n",
       "        0.28126363,  0.27821885,  0.27030362,  0.2638888 ,  0.25767412])"
      ]
     },
     "execution_count": 35,
     "metadata": {},
     "output_type": "execute_result"
    }
   ],
   "source": [
    "nmf.components_[0][nmf.components_[0].argsort()[:-n_top_words - 1:-1]]"
   ]
  },
  {
   "cell_type": "code",
   "execution_count": 44,
   "metadata": {
    "collapsed": false,
    "deletable": true,
    "editable": true
   },
   "outputs": [
    {
     "data": {
      "text/plain": [
       "928"
      ]
     },
     "execution_count": 44,
     "metadata": {},
     "output_type": "execute_result"
    }
   ],
   "source": [
    "import numpy as np\n",
    "np.count_nonzero(nmf.components_[0])"
   ]
  },
  {
   "cell_type": "code",
   "execution_count": 13,
   "metadata": {
    "collapsed": false,
    "deletable": true,
    "editable": true
   },
   "outputs": [
    {
     "name": "stdout",
     "output_type": "stream",
     "text": [
      "\n",
      "Topics in NMF model:\n",
      "Topic #0:\n",
      "people like don know time good way make ve say really right did new want going got years car ll\n",
      "Topic #1:\n",
      "windows dos using window os application ms running drivers screen software program manager motif mode work machine unix help code\n",
      "Topic #2:\n",
      "god jesus bible faith christian christ christians sin heaven believe lord life mary church love belief human religion atheism people\n",
      "Topic #3:\n",
      "thanks know advance mail hi interested email info anybody send looking like list appreciated help information address new reply post\n",
      "Topic #4:\n",
      "year ll team old 000 insurance toronto years season good left lot win 500 computer better defense hit looks hear\n",
      "Topic #5:\n",
      "edu soon send internet university mit cc information hope blood home mail article need cs email term contact 93 mac\n",
      "Topic #6:\n",
      "ftp program pc pub available files site version anonymous graphics mac mail switch hi amiga package university directory server mode\n",
      "Topic #7:\n",
      "game games team play win season players nhl hockey goal runs flyers player leafs division bad defense toronto teams won\n",
      "Topic #8:\n",
      "drive drives hard disk floppy software mac computer mb scsi apple power controller rom problem problems internal cable digital access\n",
      "Topic #9:\n",
      "key chip clipper keys encryption government public secure enforcement phone nsa communications encrypted law security clinton message user used going\n",
      "Topic #10:\n",
      "think don people win extra early sold need actually bible sex toronto means pretty statement happen yes wasn course mike\n",
      "Topic #11:\n",
      "space nasa launch moon orbit shuttle sci earth gov lunar station science cost age mission technology probe build old signal\n",
      "Topic #12:\n",
      "file problem files format win sound read help save memory image running create self run anybody public formats copy disk\n",
      "Topic #13:\n",
      "just thought wondering listen sure bad don wrong argument oh hockey like driving mean fine heard ll book new jewish\n",
      "Topic #14:\n",
      "card video driver drivers performance ram cards memory bus controller board speed need help pc latest monitor software condition 16\n",
      "Topic #15:\n",
      "does mean know anybody exist info true company monitor run atheism able david happen makes function says truth using exactly\n",
      "Topic #16:\n",
      "use want hardware need standard available encryption doing good used window stuff access power using 30 help data ones database\n",
      "Topic #17:\n",
      "bike insurance recommend live good course contact 250 dog open 500 buy org ground turn costs rights driving work start\n",
      "Topic #18:\n",
      "com list article tell sun hp ibm stuff copy dec paul fast return box internet die faq clearly message mail\n",
      "Topic #19:\n",
      "00 sale 10 condition price today 250 offer asking new car cd 15 equipment tape contact 50 12 interested 20\n",
      "\n"
     ]
    }
   ],
   "source": [
    "print(\"\\nTopics in NMF model:\")\n",
    "tfidf_feature_names = tfidf_vectorizer.get_feature_names()\n",
    "print_top_words(nmf, tfidf_feature_names, n_top_words)"
   ]
  },
  {
   "cell_type": "markdown",
   "metadata": {
    "deletable": true,
    "editable": true
   },
   "source": [
    "# Using LDA\n",
    "---"
   ]
  },
  {
   "cell_type": "code",
   "execution_count": 36,
   "metadata": {
    "collapsed": false,
    "deletable": true,
    "editable": true
   },
   "outputs": [
    {
     "name": "stdout",
     "output_type": "stream",
     "text": [
      "Fitting LDA models with tf features, n_samples=2000 and n_features=1000...\n",
      "done in 2.550s.\n"
     ]
    }
   ],
   "source": [
    "print(\"Fitting LDA models with tf features, \"\n",
    "      \"n_samples=%d and n_features=%d...\"\n",
    "      % (n_samples, n_features))\n",
    "lda = LatentDirichletAllocation(n_topics=n_topics, max_iter=5,\n",
    "                                learning_method='online',\n",
    "                                learning_offset=50.,\n",
    "                                random_state=0)\n",
    "t0 = time()\n",
    "lda.fit(tf)\n",
    "print(\"done in %0.3fs.\" % (time() - t0))"
   ]
  },
  {
   "cell_type": "code",
   "execution_count": 37,
   "metadata": {
    "collapsed": false,
    "deletable": true,
    "editable": true
   },
   "outputs": [
    {
     "name": "stdout",
     "output_type": "stream",
     "text": [
      "\n",
      "Topics in LDA model:\n",
      "Topic #0:\n",
      "rules nature memory list free data probably copies edu change pub graphics allowed break mail god 128 3d send ray\n",
      "Topic #1:\n",
      "armenians armenian turkish 000 went dead azerbaijan people mamma children armenia city killed said home weapons apartment crowd population building\n",
      "Topic #2:\n",
      "year defense think better want lot real really addition graphics hit pretty good edu following people years features like driving\n",
      "Topic #3:\n",
      "engine power water hot cold gas drive runs air oil better driver wanted sale format cs software problem make tape\n",
      "Topic #4:\n",
      "display monitor correct ground value knows yes try need comes 16 board long really possible house putting appreciated live response\n",
      "Topic #5:\n",
      "israel scsi attacks israeli win jews conference men policy soldiers true bit state papers people allow problem regular accept able\n",
      "Topic #6:\n",
      "greek players team play hockey nhl player game bob teams playing north new early pittsburgh world games canada best said\n",
      "Topic #7:\n",
      "bike car 500 insurance year cars 100 250 300 000 200 costs rate company driving mil buying live rates 1992\n",
      "Topic #8:\n",
      "window problem printer marriage hp using port tried manager windows screen quality couple worked serial thanks luck does fine work\n",
      "Topic #9:\n",
      "space year years team game 10 flyers earth moon power period new play probe goal science season time lunar president\n",
      "Topic #10:\n",
      "vs gm game copies john leafs 17 st 26 2nd 24 16 red 28 left series true cover 15 pro\n",
      "Topic #11:\n",
      "55 edu 10 mail ftp graphics version 11 available send file contact pub 00 20 server 16 image data information\n",
      "Topic #12:\n",
      "cubs games division supposed season teams st regular series guess manager reason left played added oh play fair lack world\n",
      "Topic #13:\n",
      "hiv health aids disease medical magi said care research children university 1993 study april national service number page new information\n",
      "Topic #14:\n",
      "edu com navy stuff cs soon gov ray mil internet software org blood send 128 places article graphics newsgroup 3d\n",
      "Topic #15:\n",
      "key government chip public encryption use clipper keys security private enforcement law message encrypted data clinton secure used control nsa\n",
      "Topic #16:\n",
      "section gun military law firearm weapon crime dangerous guns weapons police license shall state person self use means division application\n",
      "Topic #17:\n",
      "drive disk drives hard controller bios rom card floppy feature 16 supports interface pin mb connector cable heads scsi speed\n",
      "Topic #18:\n",
      "like use know just new don good need time thanks does want work think used problem windows using way ve\n",
      "Topic #19:\n",
      "people just don think god like know time say did way does make said good right really believe didn ve\n",
      "\n"
     ]
    }
   ],
   "source": [
    "print(\"\\nTopics in LDA model:\")\n",
    "tf_feature_names = tf_vectorizer.get_feature_names()\n",
    "print_top_words(lda, tf_feature_names, n_top_words)"
   ]
  },
  {
   "cell_type": "code",
   "execution_count": null,
   "metadata": {
    "collapsed": true,
    "deletable": true,
    "editable": true
   },
   "outputs": [],
   "source": []
  }
 ],
 "metadata": {
  "kernelspec": {
   "display_name": "Python 2",
   "language": "python",
   "name": "python2"
  },
  "language_info": {
   "codemirror_mode": {
    "name": "ipython",
    "version": 2
   },
   "file_extension": ".py",
   "mimetype": "text/x-python",
   "name": "python",
   "nbconvert_exporter": "python",
   "pygments_lexer": "ipython2",
   "version": "2.7.13"
  }
 },
 "nbformat": 4,
 "nbformat_minor": 2
}
