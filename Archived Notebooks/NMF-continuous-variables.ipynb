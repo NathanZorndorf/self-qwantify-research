{
 "cells": [
  {
   "cell_type": "code",
   "execution_count": 20,
   "metadata": {
    "collapsed": false,
    "deletable": true,
    "editable": true
   },
   "outputs": [],
   "source": [
    "import pandas as pd\n",
    "import numpy as np\n",
    "import matplotlib.pyplot as plt\n",
    "%matplotlib inline\n",
    "import plotly.plotly as py\n",
    "import plotly.graph_objs as go\n",
    "\n",
    "import seaborn as sns\n",
    "sns.set_palette(palette='muted')\n",
    "\n",
    "from scipy.stats import ttest_ind, ttest_1samp, ttest_rel, linregress\n",
    "pd.set_option('display.max_columns', 100)"
   ]
  },
  {
   "cell_type": "code",
   "execution_count": 2,
   "metadata": {
    "collapsed": true,
    "deletable": true,
    "editable": true
   },
   "outputs": [],
   "source": [
    "df = pd.read_csv('./data/qwantify.csv')"
   ]
  },
  {
   "cell_type": "code",
   "execution_count": 3,
   "metadata": {
    "collapsed": false,
    "deletable": true,
    "editable": true
   },
   "outputs": [
    {
     "data": {
      "text/html": [
       "<div>\n",
       "<table border=\"1\" class=\"dataframe\">\n",
       "  <thead>\n",
       "    <tr style=\"text-align: right;\">\n",
       "      <th></th>\n",
       "      <th>startTime_ISO8601</th>\n",
       "      <th>startTime_secondsSinceMidnight1Jan1970UTC</th>\n",
       "      <th>estimatedSecondsSinceAlert</th>\n",
       "      <th>wantingAnything</th>\n",
       "      <th>whatWanting</th>\n",
       "      <th>wantingIntensity</th>\n",
       "      <th>wantedToFeel_control</th>\n",
       "      <th>wantedToFeel_lessStress</th>\n",
       "      <th>wantedToFeel_goodAboutMe</th>\n",
       "      <th>wantedToFeel_connected</th>\n",
       "      <th>wantedToFeel_comfort</th>\n",
       "      <th>wantedToFeel_novelty</th>\n",
       "      <th>wantedToFeel_calm</th>\n",
       "      <th>wantedToFeel_health</th>\n",
       "      <th>wantedToFeel_energy</th>\n",
       "      <th>wantedToFeel_goodPerson</th>\n",
       "      <th>wantedToFeel_competent</th>\n",
       "      <th>wantedToFeel_acknowledged</th>\n",
       "      <th>wantedToFeel_helpful</th>\n",
       "      <th>wantedToFeel_other</th>\n",
       "      <th>wantedToFeel_specifiedOther</th>\n",
       "      <th>wantedToFeel_nothingInParticular</th>\n",
       "      <th>doing</th>\n",
       "      <th>doing_specifiedOther</th>\n",
       "      <th>withOthers</th>\n",
       "      <th>feelingBadToGood</th>\n",
       "      <th>energy</th>\n",
       "      <th>physically_good</th>\n",
       "      <th>physically_energized</th>\n",
       "      <th>physically_hungry</th>\n",
       "      <th>physically_tired</th>\n",
       "      <th>physically_uncomfortable</th>\n",
       "      <th>physically_other</th>\n",
       "      <th>physically_specifiedOther</th>\n",
       "      <th>physically_noFeeling</th>\n",
       "      <th>feeling_angry</th>\n",
       "      <th>feelingIntensity_angry</th>\n",
       "      <th>feeling_anxious</th>\n",
       "      <th>feelingIntensity_anxious</th>\n",
       "      <th>feeling_awe</th>\n",
       "      <th>feelingIntensity_awe</th>\n",
       "      <th>feeling_content</th>\n",
       "      <th>feelingIntensity_content</th>\n",
       "      <th>feeling_frustrated</th>\n",
       "      <th>feelingIntensity_frustrated</th>\n",
       "      <th>feeling_grateful</th>\n",
       "      <th>feelingIntensity_grateful</th>\n",
       "      <th>feeling_happy</th>\n",
       "      <th>feelingIntensity_happy</th>\n",
       "      <th>feeling_jealous</th>\n",
       "      <th>feelingIntensity_jealous</th>\n",
       "      <th>feeling_loving</th>\n",
       "      <th>feelingIntensity_loving</th>\n",
       "      <th>feeling_proud</th>\n",
       "      <th>feelingIntensity_proud</th>\n",
       "      <th>feeling_restless</th>\n",
       "      <th>feelingIntensity_restless</th>\n",
       "      <th>feeling_sad</th>\n",
       "      <th>feelingIntensity_sad</th>\n",
       "      <th>feeling_other</th>\n",
       "      <th>feeling_specifiedOther</th>\n",
       "      <th>feeling_noEmotion</th>\n",
       "      <th>thinkingOverAndOver</th>\n",
       "      <th>comparingToOthers</th>\n",
       "      <th>lonely</th>\n",
       "      <th>selfWorth</th>\n",
       "      <th>appreciating</th>\n",
       "      <th>stressed</th>\n",
       "    </tr>\n",
       "  </thead>\n",
       "  <tbody>\n",
       "    <tr>\n",
       "      <th>0</th>\n",
       "      <td>2017-05-02T20:11:01-07:00</td>\n",
       "      <td>1493781061</td>\n",
       "      <td>2351.0</td>\n",
       "      <td>2</td>\n",
       "      <td>Work on data project</td>\n",
       "      <td>0.494</td>\n",
       "      <td>0</td>\n",
       "      <td>0</td>\n",
       "      <td>0</td>\n",
       "      <td>0</td>\n",
       "      <td>0</td>\n",
       "      <td>0</td>\n",
       "      <td>0</td>\n",
       "      <td>0</td>\n",
       "      <td>0</td>\n",
       "      <td>0</td>\n",
       "      <td>0</td>\n",
       "      <td>0</td>\n",
       "      <td>0</td>\n",
       "      <td>0</td>\n",
       "      <td>NaN</td>\n",
       "      <td>0</td>\n",
       "      <td>talk</td>\n",
       "      <td>NaN</td>\n",
       "      <td>2</td>\n",
       "      <td>0.633</td>\n",
       "      <td>0.771</td>\n",
       "      <td>0</td>\n",
       "      <td>0</td>\n",
       "      <td>1</td>\n",
       "      <td>0</td>\n",
       "      <td>0</td>\n",
       "      <td>0</td>\n",
       "      <td>NaN</td>\n",
       "      <td>0</td>\n",
       "      <td>0</td>\n",
       "      <td>NaN</td>\n",
       "      <td>0</td>\n",
       "      <td>NaN</td>\n",
       "      <td>0</td>\n",
       "      <td>NaN</td>\n",
       "      <td>1</td>\n",
       "      <td>NaN</td>\n",
       "      <td>0</td>\n",
       "      <td>NaN</td>\n",
       "      <td>0</td>\n",
       "      <td>NaN</td>\n",
       "      <td>0</td>\n",
       "      <td>NaN</td>\n",
       "      <td>0</td>\n",
       "      <td>NaN</td>\n",
       "      <td>0</td>\n",
       "      <td>NaN</td>\n",
       "      <td>0</td>\n",
       "      <td>NaN</td>\n",
       "      <td>0</td>\n",
       "      <td>NaN</td>\n",
       "      <td>0</td>\n",
       "      <td>NaN</td>\n",
       "      <td>0</td>\n",
       "      <td>NaN</td>\n",
       "      <td>0</td>\n",
       "      <td>0.000</td>\n",
       "      <td>NaN</td>\n",
       "      <td>0.0</td>\n",
       "      <td>0.629</td>\n",
       "      <td>0.000</td>\n",
       "      <td>0.000</td>\n",
       "    </tr>\n",
       "    <tr>\n",
       "      <th>1</th>\n",
       "      <td>2017-05-02T12:41:30-07:00</td>\n",
       "      <td>1493754090</td>\n",
       "      <td>2354.0</td>\n",
       "      <td>2</td>\n",
       "      <td>Apply to jobs</td>\n",
       "      <td>0.281</td>\n",
       "      <td>0</td>\n",
       "      <td>0</td>\n",
       "      <td>1</td>\n",
       "      <td>0</td>\n",
       "      <td>0</td>\n",
       "      <td>0</td>\n",
       "      <td>0</td>\n",
       "      <td>0</td>\n",
       "      <td>0</td>\n",
       "      <td>0</td>\n",
       "      <td>0</td>\n",
       "      <td>0</td>\n",
       "      <td>0</td>\n",
       "      <td>0</td>\n",
       "      <td>NaN</td>\n",
       "      <td>0</td>\n",
       "      <td>chores</td>\n",
       "      <td>NaN</td>\n",
       "      <td>0</td>\n",
       "      <td>0.506</td>\n",
       "      <td>0.629</td>\n",
       "      <td>0</td>\n",
       "      <td>0</td>\n",
       "      <td>0</td>\n",
       "      <td>0</td>\n",
       "      <td>0</td>\n",
       "      <td>0</td>\n",
       "      <td>NaN</td>\n",
       "      <td>1</td>\n",
       "      <td>0</td>\n",
       "      <td>NaN</td>\n",
       "      <td>1</td>\n",
       "      <td>NaN</td>\n",
       "      <td>0</td>\n",
       "      <td>NaN</td>\n",
       "      <td>0</td>\n",
       "      <td>NaN</td>\n",
       "      <td>0</td>\n",
       "      <td>NaN</td>\n",
       "      <td>0</td>\n",
       "      <td>NaN</td>\n",
       "      <td>0</td>\n",
       "      <td>NaN</td>\n",
       "      <td>0</td>\n",
       "      <td>NaN</td>\n",
       "      <td>0</td>\n",
       "      <td>NaN</td>\n",
       "      <td>0</td>\n",
       "      <td>NaN</td>\n",
       "      <td>1</td>\n",
       "      <td>NaN</td>\n",
       "      <td>0</td>\n",
       "      <td>NaN</td>\n",
       "      <td>0</td>\n",
       "      <td>NaN</td>\n",
       "      <td>0</td>\n",
       "      <td>0.426</td>\n",
       "      <td>NaN</td>\n",
       "      <td>0.0</td>\n",
       "      <td>0.500</td>\n",
       "      <td>0.000</td>\n",
       "      <td>0.104</td>\n",
       "    </tr>\n",
       "    <tr>\n",
       "      <th>2</th>\n",
       "      <td>2017-05-02T08:34:34-07:00</td>\n",
       "      <td>1493739274</td>\n",
       "      <td>7.0</td>\n",
       "      <td>2</td>\n",
       "      <td>Paint the stairs</td>\n",
       "      <td>0.283</td>\n",
       "      <td>1</td>\n",
       "      <td>0</td>\n",
       "      <td>0</td>\n",
       "      <td>0</td>\n",
       "      <td>0</td>\n",
       "      <td>0</td>\n",
       "      <td>0</td>\n",
       "      <td>0</td>\n",
       "      <td>0</td>\n",
       "      <td>0</td>\n",
       "      <td>0</td>\n",
       "      <td>0</td>\n",
       "      <td>0</td>\n",
       "      <td>0</td>\n",
       "      <td>NaN</td>\n",
       "      <td>0</td>\n",
       "      <td>other</td>\n",
       "      <td>Meditating</td>\n",
       "      <td>0</td>\n",
       "      <td>0.500</td>\n",
       "      <td>0.502</td>\n",
       "      <td>0</td>\n",
       "      <td>0</td>\n",
       "      <td>0</td>\n",
       "      <td>0</td>\n",
       "      <td>1</td>\n",
       "      <td>0</td>\n",
       "      <td>NaN</td>\n",
       "      <td>0</td>\n",
       "      <td>0</td>\n",
       "      <td>NaN</td>\n",
       "      <td>0</td>\n",
       "      <td>NaN</td>\n",
       "      <td>0</td>\n",
       "      <td>NaN</td>\n",
       "      <td>0</td>\n",
       "      <td>NaN</td>\n",
       "      <td>0</td>\n",
       "      <td>NaN</td>\n",
       "      <td>0</td>\n",
       "      <td>NaN</td>\n",
       "      <td>0</td>\n",
       "      <td>NaN</td>\n",
       "      <td>0</td>\n",
       "      <td>NaN</td>\n",
       "      <td>0</td>\n",
       "      <td>NaN</td>\n",
       "      <td>0</td>\n",
       "      <td>NaN</td>\n",
       "      <td>0</td>\n",
       "      <td>NaN</td>\n",
       "      <td>0</td>\n",
       "      <td>NaN</td>\n",
       "      <td>0</td>\n",
       "      <td>NaN</td>\n",
       "      <td>1</td>\n",
       "      <td>0.175</td>\n",
       "      <td>NaN</td>\n",
       "      <td>0.0</td>\n",
       "      <td>0.363</td>\n",
       "      <td>0.000</td>\n",
       "      <td>0.289</td>\n",
       "    </tr>\n",
       "    <tr>\n",
       "      <th>3</th>\n",
       "      <td>2017-05-01T21:34:24-07:00</td>\n",
       "      <td>1493699664</td>\n",
       "      <td>4591.0</td>\n",
       "      <td>0</td>\n",
       "      <td>NaN</td>\n",
       "      <td>NaN</td>\n",
       "      <td>0</td>\n",
       "      <td>0</td>\n",
       "      <td>0</td>\n",
       "      <td>0</td>\n",
       "      <td>0</td>\n",
       "      <td>0</td>\n",
       "      <td>0</td>\n",
       "      <td>0</td>\n",
       "      <td>0</td>\n",
       "      <td>0</td>\n",
       "      <td>0</td>\n",
       "      <td>0</td>\n",
       "      <td>0</td>\n",
       "      <td>0</td>\n",
       "      <td>NaN</td>\n",
       "      <td>0</td>\n",
       "      <td>other</td>\n",
       "      <td>Dancing</td>\n",
       "      <td>2</td>\n",
       "      <td>0.633</td>\n",
       "      <td>0.500</td>\n",
       "      <td>0</td>\n",
       "      <td>0</td>\n",
       "      <td>1</td>\n",
       "      <td>0</td>\n",
       "      <td>0</td>\n",
       "      <td>0</td>\n",
       "      <td>NaN</td>\n",
       "      <td>0</td>\n",
       "      <td>0</td>\n",
       "      <td>NaN</td>\n",
       "      <td>0</td>\n",
       "      <td>NaN</td>\n",
       "      <td>0</td>\n",
       "      <td>NaN</td>\n",
       "      <td>1</td>\n",
       "      <td>NaN</td>\n",
       "      <td>0</td>\n",
       "      <td>NaN</td>\n",
       "      <td>0</td>\n",
       "      <td>NaN</td>\n",
       "      <td>0</td>\n",
       "      <td>NaN</td>\n",
       "      <td>0</td>\n",
       "      <td>NaN</td>\n",
       "      <td>0</td>\n",
       "      <td>NaN</td>\n",
       "      <td>0</td>\n",
       "      <td>NaN</td>\n",
       "      <td>0</td>\n",
       "      <td>NaN</td>\n",
       "      <td>0</td>\n",
       "      <td>NaN</td>\n",
       "      <td>0</td>\n",
       "      <td>NaN</td>\n",
       "      <td>0</td>\n",
       "      <td>0.000</td>\n",
       "      <td>NaN</td>\n",
       "      <td>0.0</td>\n",
       "      <td>0.514</td>\n",
       "      <td>0.791</td>\n",
       "      <td>0.000</td>\n",
       "    </tr>\n",
       "    <tr>\n",
       "      <th>4</th>\n",
       "      <td>2017-05-01T15:49:41-07:00</td>\n",
       "      <td>1493678981</td>\n",
       "      <td>8616.0</td>\n",
       "      <td>0</td>\n",
       "      <td>NaN</td>\n",
       "      <td>NaN</td>\n",
       "      <td>0</td>\n",
       "      <td>0</td>\n",
       "      <td>0</td>\n",
       "      <td>0</td>\n",
       "      <td>0</td>\n",
       "      <td>0</td>\n",
       "      <td>0</td>\n",
       "      <td>0</td>\n",
       "      <td>0</td>\n",
       "      <td>0</td>\n",
       "      <td>0</td>\n",
       "      <td>0</td>\n",
       "      <td>0</td>\n",
       "      <td>0</td>\n",
       "      <td>NaN</td>\n",
       "      <td>0</td>\n",
       "      <td>other</td>\n",
       "      <td>Looking for a job</td>\n",
       "      <td>0</td>\n",
       "      <td>0.500</td>\n",
       "      <td>0.500</td>\n",
       "      <td>0</td>\n",
       "      <td>0</td>\n",
       "      <td>0</td>\n",
       "      <td>0</td>\n",
       "      <td>0</td>\n",
       "      <td>0</td>\n",
       "      <td>NaN</td>\n",
       "      <td>1</td>\n",
       "      <td>0</td>\n",
       "      <td>NaN</td>\n",
       "      <td>0</td>\n",
       "      <td>NaN</td>\n",
       "      <td>0</td>\n",
       "      <td>NaN</td>\n",
       "      <td>0</td>\n",
       "      <td>NaN</td>\n",
       "      <td>0</td>\n",
       "      <td>NaN</td>\n",
       "      <td>0</td>\n",
       "      <td>NaN</td>\n",
       "      <td>0</td>\n",
       "      <td>NaN</td>\n",
       "      <td>0</td>\n",
       "      <td>NaN</td>\n",
       "      <td>0</td>\n",
       "      <td>NaN</td>\n",
       "      <td>0</td>\n",
       "      <td>NaN</td>\n",
       "      <td>0</td>\n",
       "      <td>NaN</td>\n",
       "      <td>0</td>\n",
       "      <td>NaN</td>\n",
       "      <td>0</td>\n",
       "      <td>NaN</td>\n",
       "      <td>1</td>\n",
       "      <td>0.000</td>\n",
       "      <td>NaN</td>\n",
       "      <td>0.0</td>\n",
       "      <td>0.502</td>\n",
       "      <td>0.000</td>\n",
       "      <td>0.143</td>\n",
       "    </tr>\n",
       "  </tbody>\n",
       "</table>\n",
       "</div>"
      ],
      "text/plain": [
       "           startTime_ISO8601  startTime_secondsSinceMidnight1Jan1970UTC  \\\n",
       "0  2017-05-02T20:11:01-07:00                                 1493781061   \n",
       "1  2017-05-02T12:41:30-07:00                                 1493754090   \n",
       "2  2017-05-02T08:34:34-07:00                                 1493739274   \n",
       "3  2017-05-01T21:34:24-07:00                                 1493699664   \n",
       "4  2017-05-01T15:49:41-07:00                                 1493678981   \n",
       "\n",
       "   estimatedSecondsSinceAlert  wantingAnything            whatWanting  \\\n",
       "0                      2351.0                2  Work on data project    \n",
       "1                      2354.0                2         Apply to jobs    \n",
       "2                         7.0                2      Paint the stairs    \n",
       "3                      4591.0                0                    NaN   \n",
       "4                      8616.0                0                    NaN   \n",
       "\n",
       "   wantingIntensity  wantedToFeel_control  wantedToFeel_lessStress  \\\n",
       "0             0.494                     0                        0   \n",
       "1             0.281                     0                        0   \n",
       "2             0.283                     1                        0   \n",
       "3               NaN                     0                        0   \n",
       "4               NaN                     0                        0   \n",
       "\n",
       "   wantedToFeel_goodAboutMe  wantedToFeel_connected  wantedToFeel_comfort  \\\n",
       "0                         0                       0                     0   \n",
       "1                         1                       0                     0   \n",
       "2                         0                       0                     0   \n",
       "3                         0                       0                     0   \n",
       "4                         0                       0                     0   \n",
       "\n",
       "   wantedToFeel_novelty  wantedToFeel_calm  wantedToFeel_health  \\\n",
       "0                     0                  0                    0   \n",
       "1                     0                  0                    0   \n",
       "2                     0                  0                    0   \n",
       "3                     0                  0                    0   \n",
       "4                     0                  0                    0   \n",
       "\n",
       "   wantedToFeel_energy  wantedToFeel_goodPerson  wantedToFeel_competent  \\\n",
       "0                    0                        0                       0   \n",
       "1                    0                        0                       0   \n",
       "2                    0                        0                       0   \n",
       "3                    0                        0                       0   \n",
       "4                    0                        0                       0   \n",
       "\n",
       "   wantedToFeel_acknowledged  wantedToFeel_helpful  wantedToFeel_other  \\\n",
       "0                          0                     0                   0   \n",
       "1                          0                     0                   0   \n",
       "2                          0                     0                   0   \n",
       "3                          0                     0                   0   \n",
       "4                          0                     0                   0   \n",
       "\n",
       "   wantedToFeel_specifiedOther  wantedToFeel_nothingInParticular   doing  \\\n",
       "0                          NaN                                 0    talk   \n",
       "1                          NaN                                 0  chores   \n",
       "2                          NaN                                 0   other   \n",
       "3                          NaN                                 0   other   \n",
       "4                          NaN                                 0   other   \n",
       "\n",
       "  doing_specifiedOther  withOthers  feelingBadToGood  energy  physically_good  \\\n",
       "0                  NaN           2             0.633   0.771                0   \n",
       "1                  NaN           0             0.506   0.629                0   \n",
       "2           Meditating           0             0.500   0.502                0   \n",
       "3             Dancing            2             0.633   0.500                0   \n",
       "4   Looking for a job            0             0.500   0.500                0   \n",
       "\n",
       "   physically_energized  physically_hungry  physically_tired  \\\n",
       "0                     0                  1                 0   \n",
       "1                     0                  0                 0   \n",
       "2                     0                  0                 0   \n",
       "3                     0                  1                 0   \n",
       "4                     0                  0                 0   \n",
       "\n",
       "   physically_uncomfortable  physically_other physically_specifiedOther  \\\n",
       "0                         0                 0                       NaN   \n",
       "1                         0                 0                       NaN   \n",
       "2                         1                 0                       NaN   \n",
       "3                         0                 0                       NaN   \n",
       "4                         0                 0                       NaN   \n",
       "\n",
       "   physically_noFeeling  feeling_angry  feelingIntensity_angry  \\\n",
       "0                     0              0                     NaN   \n",
       "1                     1              0                     NaN   \n",
       "2                     0              0                     NaN   \n",
       "3                     0              0                     NaN   \n",
       "4                     1              0                     NaN   \n",
       "\n",
       "   feeling_anxious  feelingIntensity_anxious  feeling_awe  \\\n",
       "0                0                       NaN            0   \n",
       "1                1                       NaN            0   \n",
       "2                0                       NaN            0   \n",
       "3                0                       NaN            0   \n",
       "4                0                       NaN            0   \n",
       "\n",
       "   feelingIntensity_awe  feeling_content  feelingIntensity_content  \\\n",
       "0                   NaN                1                       NaN   \n",
       "1                   NaN                0                       NaN   \n",
       "2                   NaN                0                       NaN   \n",
       "3                   NaN                1                       NaN   \n",
       "4                   NaN                0                       NaN   \n",
       "\n",
       "   feeling_frustrated  feelingIntensity_frustrated  feeling_grateful  \\\n",
       "0                   0                          NaN                 0   \n",
       "1                   0                          NaN                 0   \n",
       "2                   0                          NaN                 0   \n",
       "3                   0                          NaN                 0   \n",
       "4                   0                          NaN                 0   \n",
       "\n",
       "   feelingIntensity_grateful  feeling_happy  feelingIntensity_happy  \\\n",
       "0                        NaN              0                     NaN   \n",
       "1                        NaN              0                     NaN   \n",
       "2                        NaN              0                     NaN   \n",
       "3                        NaN              0                     NaN   \n",
       "4                        NaN              0                     NaN   \n",
       "\n",
       "   feeling_jealous  feelingIntensity_jealous  feeling_loving  \\\n",
       "0                0                       NaN               0   \n",
       "1                0                       NaN               0   \n",
       "2                0                       NaN               0   \n",
       "3                0                       NaN               0   \n",
       "4                0                       NaN               0   \n",
       "\n",
       "   feelingIntensity_loving  feeling_proud  feelingIntensity_proud  \\\n",
       "0                      NaN              0                     NaN   \n",
       "1                      NaN              0                     NaN   \n",
       "2                      NaN              0                     NaN   \n",
       "3                      NaN              0                     NaN   \n",
       "4                      NaN              0                     NaN   \n",
       "\n",
       "   feeling_restless  feelingIntensity_restless  feeling_sad  \\\n",
       "0                 0                        NaN            0   \n",
       "1                 1                        NaN            0   \n",
       "2                 0                        NaN            0   \n",
       "3                 0                        NaN            0   \n",
       "4                 0                        NaN            0   \n",
       "\n",
       "   feelingIntensity_sad  feeling_other  feeling_specifiedOther  \\\n",
       "0                   NaN              0                     NaN   \n",
       "1                   NaN              0                     NaN   \n",
       "2                   NaN              0                     NaN   \n",
       "3                   NaN              0                     NaN   \n",
       "4                   NaN              0                     NaN   \n",
       "\n",
       "   feeling_noEmotion  thinkingOverAndOver  comparingToOthers  lonely  \\\n",
       "0                  0                0.000                NaN     0.0   \n",
       "1                  0                0.426                NaN     0.0   \n",
       "2                  1                0.175                NaN     0.0   \n",
       "3                  0                0.000                NaN     0.0   \n",
       "4                  1                0.000                NaN     0.0   \n",
       "\n",
       "   selfWorth  appreciating  stressed  \n",
       "0      0.629         0.000     0.000  \n",
       "1      0.500         0.000     0.104  \n",
       "2      0.363         0.000     0.289  \n",
       "3      0.514         0.791     0.000  \n",
       "4      0.502         0.000     0.143  "
      ]
     },
     "execution_count": 3,
     "metadata": {},
     "output_type": "execute_result"
    }
   ],
   "source": [
    "df.head()"
   ]
  },
  {
   "cell_type": "code",
   "execution_count": 4,
   "metadata": {
    "collapsed": true,
    "deletable": true,
    "editable": true
   },
   "outputs": [],
   "source": [
    "continuous_cols = ['wantingIntensity','feelingBadToGood','energy', 'thinkingOverAndOver','lonely','selfWorth','appreciating','stressed']\n"
   ]
  },
  {
   "cell_type": "markdown",
   "metadata": {
    "deletable": true,
    "editable": true
   },
   "source": [
    "** Split DataFrames up**"
   ]
  },
  {
   "cell_type": "code",
   "execution_count": 5,
   "metadata": {
    "collapsed": false,
    "deletable": true,
    "editable": true
   },
   "outputs": [],
   "source": [
    "dfc = df[['wantingAnything'] + continuous_cols]\n",
    "dfw = df[df['wantingAnything']==2]\n",
    "dfw_activity = dfw[['wantingIntensity','energy','doing']]\n",
    "dfw_activity = pd.concat(objs=[dfw_activity, pd.get_dummies(data=dfw_activity['doing'])], axis=1)#.drop(labels='doing', axis=1)"
   ]
  },
  {
   "cell_type": "markdown",
   "metadata": {
    "deletable": true,
    "editable": true
   },
   "source": [
    "### Explore the conditions that correspond with high levels of intensity of want and stress?"
   ]
  },
  {
   "cell_type": "code",
   "execution_count": 24,
   "metadata": {
    "collapsed": false,
    "deletable": true,
    "editable": true
   },
   "outputs": [],
   "source": [
    "want_vals = dfc[dfc['wantingAnything']==2].ix[:, 'wantingIntensity'].values\n",
    "stress_vals = dfc[dfc['wantingAnything']==2].ix[:, 'stressed'].values\n",
    "\n",
    "# plt.hist(want_vals, bins=10);\n",
    "# plt.hist(stress_vals, bins=20);"
   ]
  },
  {
   "cell_type": "code",
   "execution_count": 26,
   "metadata": {
    "collapsed": false,
    "deletable": true,
    "editable": true
   },
   "outputs": [],
   "source": [
    "# print np.mean(want_vals)\n",
    "# print np.std(want_vals)\n",
    "want_vals[np.where(want_vals > (np.mean(want_vals) + np.std(want_vals)))];"
   ]
  },
  {
   "cell_type": "code",
   "execution_count": 8,
   "metadata": {
    "collapsed": false,
    "deletable": true,
    "editable": true
   },
   "outputs": [],
   "source": [
    "df_high_stress = df[(df['wantingAnything']==2) & \\\n",
    "    (df['wantingIntensity'] > (np.mean(want_vals))) & \\\n",
    "    (df['stressed'] > (np.median(stress_vals)))]\n",
    "\n",
    "df_low_stress = df[(df['wantingAnything']==2) & \\\n",
    "    (df['wantingIntensity'] > (np.mean(want_vals))) & \\\n",
    "    (df['stressed'] < (np.median(stress_vals)))]"
   ]
  },
  {
   "cell_type": "markdown",
   "metadata": {
    "deletable": true,
    "editable": true
   },
   "source": [
    "**How does energy level vary with stress when want intensity is high?**"
   ]
  },
  {
   "cell_type": "code",
   "execution_count": 9,
   "metadata": {
    "collapsed": false,
    "deletable": true,
    "editable": true
   },
   "outputs": [],
   "source": [
    "# print 'Using Mean Stressed Values'\n",
    "# print 'High Want Intensity, Low Stress, mean energy level:',np.mean(df_low_stress.energy.values)\n",
    "# print 'High Want Intensity, High Stress, mean energy level:',np.mean(df_high_stress.energy.values)\n",
    "\n",
    "# print '\\n',ttest_ind(a=df_low_stress.energy.values, b=df_high_stress.energy.values)"
   ]
  },
  {
   "cell_type": "code",
   "execution_count": 12,
   "metadata": {
    "collapsed": false,
    "deletable": true,
    "editable": true
   },
   "outputs": [
    {
     "name": "stdout",
     "output_type": "stream",
     "text": [
      "Using Median Stressed Values\n",
      "High Want Intensity, Low Stress, mean energy level: 0.664666666667\n",
      "High Want Intensity, High Stress, mean energy level: 0.512111111111\n",
      "\n",
      "Ttest_indResult(statistic=3.0522573892036644, pvalue=0.0037660749715205328)\n"
     ]
    }
   ],
   "source": [
    "print 'Using Median Stressed Values'\n",
    "print 'High Want Intensity, Low Stress, mean energy level:',np.mean(df_low_stress.energy.values)\n",
    "print 'High Want Intensity, High Stress, mean energy level:',np.mean(df_high_stress.energy.values)\n",
    "\n",
    "print '\\n',ttest_ind(a=df_low_stress.energy.values, b=df_high_stress.energy.values)"
   ]
  },
  {
   "cell_type": "markdown",
   "metadata": {
    "deletable": true,
    "editable": true
   },
   "source": [
    "**plot Stress vs. Energy (for high want intensity)**"
   ]
  },
  {
   "cell_type": "code",
   "execution_count": 23,
   "metadata": {
    "collapsed": false,
    "deletable": true,
    "editable": true
   },
   "outputs": [
    {
     "data": {
      "text/plain": [
       "<matplotlib.axes._subplots.AxesSubplot at 0x111c50910>"
      ]
     },
     "execution_count": 23,
     "metadata": {},
     "output_type": "execute_result"
    },
    {
     "data": {
      "image/png": "[encoded data removed]",
      "text/plain": [
       "<matplotlib.figure.Figure at 0x111c89bd0>"
      ]
     },
     "metadata": {},
     "output_type": "display_data"
    }
   ],
   "source": [
    "sns.regplot(x=dfw.stressed, y=dfw.energy, line_kws={'color':'green'})"
   ]
  },
  {
   "cell_type": "code",
   "execution_count": null,
   "metadata": {
    "collapsed": true
   },
   "outputs": [],
   "source": [
    "sns.regplot(x=dfw.stressed, y=dfw.energy, line_kws={'color':'green'})"
   ]
  },
  {
   "cell_type": "markdown",
   "metadata": {},
   "source": [
    "**Conclusion**\n",
    "<br> \n",
    "Stress decreases energy level, even when wanting intensity is high. \n",
    "<br><br>"
   ]
  },
  {
   "cell_type": "markdown",
   "metadata": {
    "deletable": true,
    "editable": true
   },
   "source": [
    "**How does w/ people condition relate to high wanting and high stress? low stress?**"
   ]
  },
  {
   "cell_type": "code",
   "execution_count": 14,
   "metadata": {
    "collapsed": false,
    "deletable": true,
    "editable": true
   },
   "outputs": [
    {
     "data": {
      "text/plain": [
       "<matplotlib.text.Text at 0x111809e90>"
      ]
     },
     "execution_count": 14,
     "metadata": {},
     "output_type": "execute_result"
    },
    {
     "data": {
      "image/png": "[encoded data removed]",
      "text/plain": [
       "<matplotlib.figure.Figure at 0x10b525d50>"
      ]
     },
     "metadata": {},
     "output_type": "display_data"
    }
   ],
   "source": [
    "b = sns.barplot(x='withOthers', y='stressed', data=dfw, estimator=np.mean)\n",
    "\n",
    "b.set_title('Stressed vs. With Others, wantingAnything=2')"
   ]
  },
  {
   "cell_type": "code",
   "execution_count": 15,
   "metadata": {
    "collapsed": false,
    "deletable": true,
    "editable": true
   },
   "outputs": [
    {
     "data": {
      "text/plain": [
       "<matplotlib.text.Text at 0x111972910>"
      ]
     },
     "execution_count": 15,
     "metadata": {},
     "output_type": "execute_result"
    },
    {
     "data": {
      "image/png": "[encoded data removed]",
      "text/plain": [
       "<matplotlib.figure.Figure at 0x1117ff6d0>"
      ]
     },
     "metadata": {},
     "output_type": "display_data"
    }
   ],
   "source": [
    "# fig, (ax1, ax2) = plt.subplots(1, 2, figsize=(14,5))\n",
    "\n",
    "# b = sns.barplot(x='withOthers', y='stressed', hue='wantingAnything', data=df, estimator=np.mean, ax=ax1, )\n",
    "# ax1.set_title('Stressed vs. With Others, by wantingAnything')\n",
    "\n",
    "\n",
    "b = sns.barplot(x='withOthers', y='stressed', data=df, estimator=np.mean)\n",
    "b.set_title('Stressed vs. With Others, averaged')\n"
   ]
  },
  {
   "cell_type": "markdown",
   "metadata": {
    "deletable": true,
    "editable": true
   },
   "source": [
    "**Create bar graphs for each activity from data with high levels of Want Intensity**\n",
    "Height of the bar corresponds with frequency of that activity. \n",
    "Hue would be the high energy and low energy state."
   ]
  },
  {
   "cell_type": "markdown",
   "metadata": {
    "deletable": true,
    "editable": true
   },
   "source": [
    "Create columns for want_state, energy_state"
   ]
  },
  {
   "cell_type": "code",
   "execution_count": 16,
   "metadata": {
    "collapsed": false,
    "deletable": true,
    "editable": true
   },
   "outputs": [],
   "source": [
    "median_want = np.median(dfw_activity['wantingIntensity'].values)\n",
    "median_energy = np.median(dfw_activity['energy'].values)\n",
    "\n",
    "dfw_activity['want_state'] = dfw_activity['wantingIntensity'].apply(lambda x: 1 if x > median_want else 0)\n",
    "dfw_activity['energy_state'] = dfw_activity['energy'].apply(lambda x: 1 if x > median_energy else 0)\n",
    "\n",
    "dff = dfw_activity[dfw_activity['want_state'] == 1]"
   ]
  },
  {
   "cell_type": "code",
   "execution_count": 17,
   "metadata": {
    "collapsed": false,
    "deletable": true,
    "editable": true
   },
   "outputs": [
    {
     "data": {
      "text/html": [
       "<div>\n",
       "<table border=\"1\" class=\"dataframe\">\n",
       "  <thead>\n",
       "    <tr style=\"text-align: right;\">\n",
       "      <th></th>\n",
       "      <th>wantingIntensity</th>\n",
       "      <th>energy</th>\n",
       "      <th>doing</th>\n",
       "      <th>chores</th>\n",
       "      <th>eat</th>\n",
       "      <th>exercise</th>\n",
       "      <th>leisure</th>\n",
       "      <th>other</th>\n",
       "      <th>talk</th>\n",
       "      <th>travel</th>\n",
       "      <th>work</th>\n",
       "      <th>want_state</th>\n",
       "      <th>energy_state</th>\n",
       "    </tr>\n",
       "  </thead>\n",
       "  <tbody>\n",
       "    <tr>\n",
       "      <th>0</th>\n",
       "      <td>0.494</td>\n",
       "      <td>0.771</td>\n",
       "      <td>talk</td>\n",
       "      <td>0</td>\n",
       "      <td>0</td>\n",
       "      <td>0</td>\n",
       "      <td>0</td>\n",
       "      <td>0</td>\n",
       "      <td>1</td>\n",
       "      <td>0</td>\n",
       "      <td>0</td>\n",
       "      <td>1</td>\n",
       "      <td>1</td>\n",
       "    </tr>\n",
       "    <tr>\n",
       "      <th>9</th>\n",
       "      <td>0.538</td>\n",
       "      <td>0.715</td>\n",
       "      <td>chores</td>\n",
       "      <td>1</td>\n",
       "      <td>0</td>\n",
       "      <td>0</td>\n",
       "      <td>0</td>\n",
       "      <td>0</td>\n",
       "      <td>0</td>\n",
       "      <td>0</td>\n",
       "      <td>0</td>\n",
       "      <td>1</td>\n",
       "      <td>1</td>\n",
       "    </tr>\n",
       "  </tbody>\n",
       "</table>\n",
       "</div>"
      ],
      "text/plain": [
       "   wantingIntensity  energy   doing  chores  eat  exercise  leisure  other  \\\n",
       "0             0.494   0.771    talk       0    0         0        0      0   \n",
       "9             0.538   0.715  chores       1    0         0        0      0   \n",
       "\n",
       "   talk  travel  work  want_state  energy_state  \n",
       "0     1       0     0           1             1  \n",
       "9     0       0     0           1             1  "
      ]
     },
     "execution_count": 17,
     "metadata": {},
     "output_type": "execute_result"
    }
   ],
   "source": [
    "dff.head(2)"
   ]
  },
  {
   "cell_type": "code",
   "execution_count": 18,
   "metadata": {
    "collapsed": false,
    "deletable": true,
    "editable": true
   },
   "outputs": [
    {
     "ename": "AttributeError",
     "evalue": "'Series' object has no attribute 'values_counts'",
     "output_type": "error",
     "traceback": [
      "\u001b[0;31m---------------------------------------------------------------------------\u001b[0m",
      "\u001b[0;31mAttributeError\u001b[0m                            Traceback (most recent call last)",
      "\u001b[0;32m<ipython-input-18-50e0af96fcb6>\u001b[0m in \u001b[0;36m<module>\u001b[0;34m()\u001b[0m\n\u001b[0;32m----> 1\u001b[0;31m \u001b[0mdff\u001b[0m\u001b[0;34m[\u001b[0m\u001b[0;34m'chores'\u001b[0m\u001b[0;34m]\u001b[0m\u001b[0;34m.\u001b[0m\u001b[0mvalues_counts\u001b[0m\u001b[0;34m\u001b[0m\u001b[0m\n\u001b[0m\u001b[1;32m      2\u001b[0m \u001b[0;34m\u001b[0m\u001b[0m\n\u001b[1;32m      3\u001b[0m \u001b[0mbar_heights\u001b[0m \u001b[0;34m=\u001b[0m \u001b[0;34m(\u001b[0m\u001b[0mmen\u001b[0m\u001b[0;34m,\u001b[0m \u001b[0mwomen\u001b[0m\u001b[0;34m)\u001b[0m\u001b[0;34m\u001b[0m\u001b[0m\n\u001b[1;32m      4\u001b[0m \u001b[0mx\u001b[0m \u001b[0;34m=\u001b[0m \u001b[0;34m(\u001b[0m\u001b[0;36m1\u001b[0m\u001b[0;34m,\u001b[0m \u001b[0;36m2\u001b[0m\u001b[0;34m)\u001b[0m\u001b[0;34m\u001b[0m\u001b[0m\n\u001b[1;32m      5\u001b[0m \u001b[0;34m\u001b[0m\u001b[0m\n",
      "\u001b[0;32m/Users/Naekid/anaconda3/envs/dsi/lib/python2.7/site-packages/pandas/core/generic.pyc\u001b[0m in \u001b[0;36m__getattr__\u001b[0;34m(self, name)\u001b[0m\n\u001b[1;32m   2742\u001b[0m             \u001b[0;32mif\u001b[0m \u001b[0mname\u001b[0m \u001b[0;32min\u001b[0m \u001b[0mself\u001b[0m\u001b[0;34m.\u001b[0m\u001b[0m_info_axis\u001b[0m\u001b[0;34m:\u001b[0m\u001b[0;34m\u001b[0m\u001b[0m\n\u001b[1;32m   2743\u001b[0m                 \u001b[0;32mreturn\u001b[0m \u001b[0mself\u001b[0m\u001b[0;34m[\u001b[0m\u001b[0mname\u001b[0m\u001b[0;34m]\u001b[0m\u001b[0;34m\u001b[0m\u001b[0m\n\u001b[0;32m-> 2744\u001b[0;31m             \u001b[0;32mreturn\u001b[0m \u001b[0mobject\u001b[0m\u001b[0;34m.\u001b[0m\u001b[0m__getattribute__\u001b[0m\u001b[0;34m(\u001b[0m\u001b[0mself\u001b[0m\u001b[0;34m,\u001b[0m \u001b[0mname\u001b[0m\u001b[0;34m)\u001b[0m\u001b[0;34m\u001b[0m\u001b[0m\n\u001b[0m\u001b[1;32m   2745\u001b[0m \u001b[0;34m\u001b[0m\u001b[0m\n\u001b[1;32m   2746\u001b[0m     \u001b[0;32mdef\u001b[0m \u001b[0m__setattr__\u001b[0m\u001b[0;34m(\u001b[0m\u001b[0mself\u001b[0m\u001b[0;34m,\u001b[0m \u001b[0mname\u001b[0m\u001b[0;34m,\u001b[0m \u001b[0mvalue\u001b[0m\u001b[0;34m)\u001b[0m\u001b[0;34m:\u001b[0m\u001b[0;34m\u001b[0m\u001b[0m\n",
      "\u001b[0;31mAttributeError\u001b[0m: 'Series' object has no attribute 'values_counts'"
     ]
    }
   ],
   "source": [
    "dff['chores'].values_counts\n",
    "\n",
    "bar_heights = (men, women)\n",
    "x = (1, 2)\n",
    "\n",
    "fig, ax = plt.subplots()\n",
    "width = 0.4\n",
    "\n",
    "ax.bar(x, bar_heights, width)"
   ]
  },
  {
   "cell_type": "markdown",
   "metadata": {
    "deletable": true,
    "editable": true
   },
   "source": [
    "## Use plotly to plot Intensity of Want, Stress, and Appreciating the Moment"
   ]
  },
  {
   "cell_type": "code",
   "execution_count": 22,
   "metadata": {
    "collapsed": false,
    "deletable": true,
    "editable": true
   },
   "outputs": [
    {
     "name": "stdout",
     "output_type": "stream",
     "text": [
      "High five! You successfuly sent some data to your account on plotly. View your plot in your browser at https://plot.ly/~codedorf/0 or inside your plot.ly account where it is named 'want-stress-appreciating'\n"
     ]
    }
   ],
   "source": [
    "# py.offline.init_notebook_mode()\n",
    "\n",
    "colors = ['rgb(228,26,28)','rgb(55,126,184)','rgb(77,175,74)']\n",
    "\n",
    "color = colors[0]\n",
    "\n",
    "data = []\n",
    "\n",
    "trace = dict(\n",
    "        name = 'Want Intensity, Stress, APpreciating',\n",
    "        x=dfw['wantingIntensity'], \n",
    "        y=dfw['stressed'], \n",
    "        z=dfw['appreciating'],\n",
    "        type = \"scatter3d\",    \n",
    "        mode = 'markers',\n",
    "        marker = dict( size=3, color=color, line=dict(width=0) ) \n",
    ")\n",
    "\n",
    "data.append( trace )\n",
    "\n",
    "layout = dict(\n",
    "    width=800,\n",
    "    height=550,\n",
    "    autosize=False,\n",
    "    title='Want Intensity, Stress, Appreciating',\n",
    "    scene=dict(\n",
    "        xaxis=dict(\n",
    "            gridcolor='rgb(255, 255, 255)',\n",
    "            zerolinecolor='rgb(255, 255, 255)',\n",
    "            showbackground=True,\n",
    "            backgroundcolor='rgb(230, 230,230)',\n",
    "            title='Wanting Intensity'\n",
    "        ),\n",
    "        yaxis=dict(\n",
    "            gridcolor='rgb(255, 255, 255)',\n",
    "            zerolinecolor='rgb(255, 255, 255)',\n",
    "            showbackground=True,\n",
    "            backgroundcolor='rgb(230, 230,230)',\n",
    "            title='Stressed'\n",
    "        ),\n",
    "        zaxis=dict(\n",
    "            gridcolor='rgb(255, 255, 255)',\n",
    "            zerolinecolor='rgb(255, 255, 255)',\n",
    "            showbackground=True,\n",
    "            backgroundcolor='rgb(230, 230,230)',\n",
    "            title='Appreciating Moment'\n",
    "        ),\n",
    "        aspectratio = dict( x=1, y=1, z=0.7 ),\n",
    "        aspectmode = 'manual'        \n",
    "    ),\n",
    ")\n",
    "\n",
    "\n",
    "fig = dict(data=data, layout=layout)\n",
    "\n",
    "figure=go.Figure(data=data,layout=layout)\n",
    "\n",
    "figure.update(dict(layout=dict(scene=dict(xaxis=dict(title='Wanting Intensity'), \\\n",
    "                                          yaxis=dict(title='Stressed'), \\\n",
    "                                          zaxis=dict(title='Appreciating')))\n",
    "                  )\n",
    "             )\n",
    "                \n",
    "py.iplot(figure, filename='want-stress-appreciating')\n",
    "\n",
    "url = py.plot(fig, filename='pandas-3d-iris', validate=False)"
   ]
  },
  {
   "cell_type": "markdown",
   "metadata": {
    "deletable": true,
    "editable": true
   },
   "source": [
    "## Non-Negative Matrix Factorization to reduce dimensions to 2"
   ]
  },
  {
   "cell_type": "code",
   "execution_count": 27,
   "metadata": {
    "collapsed": false,
    "deletable": true,
    "editable": true
   },
   "outputs": [],
   "source": [
    "from sklearn.decomposition import NMF\n",
    "from sklearn.decomposition import PCA\n",
    "\n",
    "n_components = 2"
   ]
  },
  {
   "cell_type": "markdown",
   "metadata": {
    "deletable": true,
    "editable": true
   },
   "source": [
    "**Fit NMF**"
   ]
  },
  {
   "cell_type": "code",
   "execution_count": 28,
   "metadata": {
    "collapsed": false,
    "deletable": true,
    "editable": true
   },
   "outputs": [
    {
     "data": {
      "text/plain": [
       "NMF(alpha=0.0, beta=1, eta=0.1, init='random', l1_ratio=0.0, max_iter=200,\n",
       "  n_components=2, nls_max_iter=2000, random_state=0, shuffle=False,\n",
       "  solver='cd', sparseness=None, tol=0.0001, verbose=0)"
      ]
     },
     "execution_count": 28,
     "metadata": {},
     "output_type": "execute_result"
    }
   ],
   "source": [
    "nmf = NMF(n_components=n_components, init='random', random_state=0)\n",
    "nmf.fit(dfw[continuous_cols])"
   ]
  },
  {
   "cell_type": "code",
   "execution_count": 29,
   "metadata": {
    "collapsed": false,
    "deletable": true,
    "editable": true
   },
   "outputs": [
    {
     "data": {
      "text/plain": [
       "array([[ 1.25743575,  1.63961353,  1.60207417,  0.        ,  0.04023269,\n",
       "         1.47850633,  0.31406392,  0.07867169],\n",
       "       [ 0.48240781,  0.30641305,  0.38038288,  0.87053344,  0.04953943,\n",
       "         0.43094422,  0.        ,  0.79942308]])"
      ]
     },
     "execution_count": 29,
     "metadata": {},
     "output_type": "execute_result"
    }
   ],
   "source": [
    "nmf.components_"
   ]
  },
  {
   "cell_type": "markdown",
   "metadata": {
    "deletable": true,
    "editable": true
   },
   "source": [
    "**Find columns that make up the two components**"
   ]
  },
  {
   "cell_type": "code",
   "execution_count": 30,
   "metadata": {
    "collapsed": true,
    "deletable": true,
    "editable": true
   },
   "outputs": [],
   "source": [
    "def print_top_cols(model, col_names, n_top_cols):\n",
    "    xaxis_titles = []\n",
    "    yaxis_titles = []\n",
    "    zaxis_titles = []\n",
    "        \n",
    "    for idx, weights in enumerate(model.components_):\n",
    "        print(\"Latent Feature #%d:\" % idx)\n",
    "        print(\" \".join([col_names[i] + ' ({weight})'.format(weight=round(weights[i],3))\n",
    "                        for i in weights.argsort()[:-n_top_cols - 1:-1]]))\n",
    "        \n",
    "        \n",
    "        if idx == 0:\n",
    "            xaxis_titles = [col_names[i] for i in weights.argsort()[:-n_top_cols - 1:-1]]\n",
    "        elif idx == 1:\n",
    "            yaxis_titles = [col_names[i] for i in weights.argsort()[:-n_top_cols - 1:-1]]\n",
    "        elif idx == 2:\n",
    "            zaxis_titles = [col_names[i] for i in weights.argsort()[:-n_top_cols - 1:-1]]\n",
    "    \n",
    "    return xaxis_titles, yaxis_titles, zaxis_titles"
   ]
  },
  {
   "cell_type": "code",
   "execution_count": 31,
   "metadata": {
    "collapsed": false,
    "deletable": true,
    "editable": true
   },
   "outputs": [
    {
     "name": "stdout",
     "output_type": "stream",
     "text": [
      "Latent Feature #0:\n",
      "feelingBadToGood (1.64) energy (1.602)\n",
      "Latent Feature #1:\n",
      "thinkingOverAndOver (0.871) stressed (0.799)\n"
     ]
    }
   ],
   "source": [
    "xaxis_titles, yaxis_titles, zaxis_titles = print_top_cols(nmf, continuous_cols, 2)"
   ]
  },
  {
   "cell_type": "code",
   "execution_count": 32,
   "metadata": {
    "collapsed": false,
    "deletable": true,
    "editable": true
   },
   "outputs": [
    {
     "data": {
      "text/plain": [
       "['feelingBadToGood', 'energy']"
      ]
     },
     "execution_count": 32,
     "metadata": {},
     "output_type": "execute_result"
    }
   ],
   "source": [
    "xaxis_titles"
   ]
  },
  {
   "cell_type": "markdown",
   "metadata": {
    "deletable": true,
    "editable": true
   },
   "source": [
    "**Transform original dataset - reduce dimensions through NMF**"
   ]
  },
  {
   "cell_type": "code",
   "execution_count": 33,
   "metadata": {
    "collapsed": false,
    "deletable": true,
    "editable": true
   },
   "outputs": [],
   "source": [
    "# NMF\n",
    "result = nmf.transform(dfw[continuous_cols])\n",
    "\n",
    "# PCA\n",
    "pca = PCA(n_components=n_components)\n",
    "result_pca = pca.fit_transform(dfw[continuous_cols])"
   ]
  },
  {
   "cell_type": "code",
   "execution_count": 34,
   "metadata": {
    "collapsed": false,
    "deletable": true,
    "editable": true
   },
   "outputs": [
    {
     "name": "stdout",
     "output_type": "stream",
     "text": [
      "(93, 8)\n",
      "(93, 2)\n",
      "(93, 2)\n"
     ]
    }
   ],
   "source": [
    "print dfw[continuous_cols].shape\n",
    "print result_pca.shape\n",
    "print result.shape"
   ]
  },
  {
   "cell_type": "markdown",
   "metadata": {
    "deletable": true,
    "editable": true
   },
   "source": [
    "**PCA Scatter Plot**"
   ]
  },
  {
   "cell_type": "code",
   "execution_count": 35,
   "metadata": {
    "collapsed": false,
    "deletable": true,
    "editable": true
   },
   "outputs": [
    {
     "data": {
      "text/plain": [
       "<matplotlib.text.Text at 0x116fa9710>"
      ]
     },
     "execution_count": 35,
     "metadata": {},
     "output_type": "execute_result"
    },
    {
     "data": {
      "image/png": "[encoded data removed]",
      "text/plain": [
       "<matplotlib.figure.Figure at 0x116f68510>"
      ]
     },
     "metadata": {},
     "output_type": "display_data"
    }
   ],
   "source": [
    "\n",
    "plt.scatter(x=result_pca[:, 0], y=result_pca[:, 1])\n",
    "plt.title('PCA (n_omponents=2)')\n",
    "plt.xlabel('x')\n",
    "plt.ylabel('y')"
   ]
  },
  {
   "cell_type": "markdown",
   "metadata": {
    "deletable": true,
    "editable": true
   },
   "source": [
    "**NMF Scatter Plot**"
   ]
  },
  {
   "cell_type": "code",
   "execution_count": 36,
   "metadata": {
    "collapsed": false,
    "deletable": true,
    "editable": true
   },
   "outputs": [],
   "source": [
    "# # Split up data based on withOthers value\n",
    "# result_2 = np.extract(dfw['withOthers'].values == 2, result)\n",
    "# result_1 = np.extract(dfw['withOthers'].values == 1, result)\n",
    "# result_0 = np.extract(dfw['withOthers'].values == 0, result)"
   ]
  },
  {
   "cell_type": "code",
   "execution_count": 37,
   "metadata": {
    "collapsed": false,
    "deletable": true,
    "editable": true
   },
   "outputs": [],
   "source": [
    "# Split up data based on withOthers value\n",
    "result_2 = result[dfw['withOthers'].values == 2]\n",
    "result_1 = result[dfw['withOthers'].values == 1]\n",
    "result_0 = result[dfw['withOthers'].values == 0]"
   ]
  },
  {
   "cell_type": "code",
   "execution_count": 38,
   "metadata": {
    "collapsed": false,
    "deletable": true,
    "editable": true
   },
   "outputs": [
    {
     "data": {
      "text/html": [
       "<iframe id=\"igraph\" scrolling=\"no\" style=\"border:none;\" seamless=\"seamless\" src=\"https://plot.ly/~codedorf/4.embed\" height=\"525px\" width=\"100%\"></iframe>"
      ],
      "text/plain": [
       "<plotly.tools.PlotlyDisplay object>"
      ]
     },
     "execution_count": 38,
     "metadata": {},
     "output_type": "execute_result"
    }
   ],
   "source": [
    "trace_comp0 = go.Scatter(\n",
    "    x=result_0[:,0],\n",
    "    y=result_0[:,1],\n",
    "    mode='markers',\n",
    "    marker=dict(size=12,\n",
    "                line=dict(width=1),\n",
    "                color=\"navy\"\n",
    "               ),\n",
    "    name='withOthers = 0', # series name\n",
    "    text='withOthers = 0', # text for each point \n",
    "    )\n",
    "\n",
    "trace_comp1 = go.Scatter(\n",
    "    x=result_1[:,0],\n",
    "    y=result_1[:,1],\n",
    "    mode='markers',\n",
    "    marker=dict(size=12,\n",
    "                line=dict(width=1),\n",
    "                color=\"red\"\n",
    "               ),\n",
    "    name='withOthers = 1', # series name\n",
    "    text='withOthers = 1', # text for each point \n",
    "    )\n",
    "\n",
    "trace_comp2 = go.Scatter(\n",
    "    x=result_2[:,0],\n",
    "    y=result_2[:,1],\n",
    "    mode='markers',\n",
    "    marker=dict(size=12,\n",
    "                line=dict(width=1),\n",
    "                color=\"green\"\n",
    "               ),\n",
    "    name='withOthers = 2', # series name\n",
    "    text='withOthers = 2', # text for each point \n",
    "    )\n",
    "\n",
    "\n",
    "data_comp = [trace_comp0,trace_comp1,trace_comp2]\n",
    "\n",
    "layout_comp = go.Layout(\n",
    "    title='Actively Wanting NMF (n_components=2)',\n",
    "    hovermode='closest',\n",
    "    xaxis=dict(\n",
    "        title=\", \".join(xaxis_titles),\n",
    "        ticklen=5,\n",
    "        zeroline=False,\n",
    "        gridwidth=2,\n",
    "    ),\n",
    "    yaxis=dict(\n",
    "        title=\", \".join(yaxis_titles),\n",
    "        ticklen=5,\n",
    "        gridwidth=2,\n",
    "    ),\n",
    ")\n",
    "\n",
    "fig_comp = go.Figure(data=data_comp, layout=layout_comp)\n",
    "\n",
    "url = py.plot(fig_comp, filename='actively-wanting-with-others-nmf-2-components', validate=False)\n",
    "\n",
    "# py.iplot(fig_comp, filename='actively-wanting-nmf-2-components')"
   ]
  },
  {
   "cell_type": "markdown",
   "metadata": {
    "collapsed": true,
    "deletable": true,
    "editable": true
   },
   "source": [
    "# Preparation for Clustering\n",
    "<br>\n",
    "Reducing values to 1 point in n dimensions."
   ]
  },
  {
   "cell_type": "code",
   "execution_count": 170,
   "metadata": {
    "collapsed": false,
    "deletable": true,
    "editable": true
   },
   "outputs": [
    {
     "data": {
      "text/plain": [
       "<matplotlib.axes._subplots.AxesSubplot at 0x122e03650>"
      ]
     },
     "execution_count": 170,
     "metadata": {},
     "output_type": "execute_result"
    },
    {
     "data": {
      "image/png": "[encoded data removed]",
      "text/plain": [
       "<matplotlib.figure.Figure at 0x123280750>"
      ]
     },
     "metadata": {},
     "output_type": "display_data"
    }
   ],
   "source": [
    "sns.regplot(x='feelingBadToGood', y='energy', data=df, line_kws={'color':'lime'}, robust=True, ci=None)"
   ]
  },
  {
   "cell_type": "markdown",
   "metadata": {
    "deletable": true,
    "editable": true
   },
   "source": [
    "**Reducing n-dimensions to a single point.**\n",
    "<br>\n",
    "1. Take the average of each dimension, and these averages become the coordinates of your point. \n",
    "2. Find the slope of the linear regression line for each dimension, and then you have many slopes for each pair of predictors. "
   ]
  },
  {
   "cell_type": "code",
   "execution_count": 214,
   "metadata": {
    "collapsed": false,
    "deletable": true,
    "editable": true
   },
   "outputs": [
    {
     "data": {
      "text/plain": [
       "<matplotlib.text.Annotation at 0x12531f610>"
      ]
     },
     "execution_count": 214,
     "metadata": {},
     "output_type": "execute_result"
    },
    {
     "data": {
      "image/png": "[encoded data removed]",
      "text/plain": [
       "<matplotlib.figure.Figure at 0x1230ba590>"
      ]
     },
     "metadata": {},
     "output_type": "display_data"
    }
   ],
   "source": [
    "# Method 1\n",
    "fig, (ax1, ax2) = plt.subplots(1, 2, figsize=(15, 4))\n",
    "\n",
    "# Actual points \n",
    "sns.regplot(x='appreciating', y='stressed', data=df, line_kws={'color':'lime'}, robust=False, ci=None, ax=ax1)\n",
    "linregressResult = linregress(x=df['appreciating'].values, y=df['stressed'].values)\n",
    "slope = round(linregressResult.slope, 2)\n",
    "ax1.text(0.75, 0.90,'slope = {}'.format(slope), fontsize=12, color='black') \n",
    "ax1.set_ylim((-0.1,1.1))\n",
    "ax1.set_xlim((-0.1,1.1))\n",
    "ax1.set_title('Stressed vs. Appreciating')\n",
    "\n",
    "# Average\n",
    "x_avg = round(np.mean(df['appreciating'].values) , 2)\n",
    "y_avg = round(np.mean(df['stressed'].values), 2)\n",
    "ax2.scatter(x=x_avg, y=y_avg)\n",
    "ax2.set_ylim((-0.1,1.1))\n",
    "ax2.set_xlim((-0.1,1.1))\n",
    "ax2.set_title('Average Stressed vs. Appreciating')\n",
    "ax2.set_xlabel('Stressed')\n",
    "ax2.set_ylabel('Appreciating')\n",
    "\n",
    "ax2.annotate('{},{}'.format(x_avg, y_avg), (x_avg+0.05, y_avg), fontsize=12)"
   ]
  },
  {
   "cell_type": "markdown",
   "metadata": {
    "collapsed": true,
    "deletable": true,
    "editable": true
   },
   "source": [
    "**Plot 3D scatter plot for loneliness, stress, and want**"
   ]
  },
  {
   "cell_type": "code",
   "execution_count": 19,
   "metadata": {
    "collapsed": false,
    "deletable": true,
    "editable": true
   },
   "outputs": [
    {
     "data": {
      "text/html": [
       "<iframe id=\"igraph\" scrolling=\"no\" style=\"border:none;\" seamless=\"seamless\" src=\"https://plot.ly/~codedorf/8.embed\" height=\"550px\" width=\"800px\"></iframe>"
      ],
      "text/plain": [
       "<plotly.tools.PlotlyDisplay object>"
      ]
     },
     "execution_count": 19,
     "metadata": {},
     "output_type": "execute_result"
    }
   ],
   "source": [
    "colors = ['rgb(228,26,28)','rgb(55,126,184)','rgb(77,175,74)']\n",
    "\n",
    "color = colors[0]\n",
    "\n",
    "data = []\n",
    "\n",
    "trace_1 = dict(\n",
    "        name = 'Want Intensity vs Stress vs Loneliness',\n",
    "        x=dfw['wantingIntensity'], \n",
    "        y=dfw['stressed'], \n",
    "        z=dfw['lonely'],\n",
    "        type = \"scatter3d\",    \n",
    "        mode = 'markers',\n",
    "        marker = dict( size=3, color=color, line=dict(width=0) ) \n",
    ")\n",
    "\n",
    "data.append( trace_1 )\n",
    "\n",
    "trace_2 = dict(\n",
    "        name = 'Single Point Reduction w/ Mean',\n",
    "        x=np.mean(dfw['wantingIntensity'].values), \n",
    "        y=np.mean(dfw['stressed'].values), \n",
    "        z=np.mean(dfw['lonely'].values),\n",
    "        type = \"scatter3d\",    \n",
    "        mode = 'markers',\n",
    "        marker = dict( size=5, color=colors[1], line=dict(width=0) ) \n",
    ")\n",
    "\n",
    "data.append( trace_2 )\n",
    "\n",
    "\n",
    "trace_3 = dict(\n",
    "        name = 'Single Point Reduction w/ Median',\n",
    "        x=np.median(dfw['wantingIntensity'].values), \n",
    "        y=np.median(dfw['stressed'].values), \n",
    "        z=np.median(dfw['lonely'].values),\n",
    "        type = \"scatter3d\",    \n",
    "        mode = 'markers',\n",
    "        marker = dict( size=5, color=colors[2], line=dict(width=0) ) \n",
    ")\n",
    "\n",
    "data.append( trace_3 )\n",
    "\n",
    "\n",
    "\n",
    "layout = dict(\n",
    "    width=800,\n",
    "    height=550,\n",
    "    autosize=False,\n",
    "    title='Want Intensity vs Stress vs Appreciating',\n",
    "    scene=dict(\n",
    "        xaxis=dict(\n",
    "            gridcolor='rgb(255, 255, 255)',\n",
    "            zerolinecolor='rgb(255, 255, 255)',\n",
    "            showbackground=True,\n",
    "            backgroundcolor='rgb(230, 230,230)',\n",
    "            title = 'Wanting Intensity'\n",
    "            \n",
    "        ),\n",
    "        yaxis=dict(\n",
    "            gridcolor='rgb(255, 255, 255)',\n",
    "            zerolinecolor='rgb(255, 255, 255)',\n",
    "            showbackground=True,\n",
    "            backgroundcolor='rgb(230, 230,230)',\n",
    "            title = 'Stressed'\n",
    "        ),\n",
    "        zaxis=dict(\n",
    "            gridcolor='rgb(255, 255, 255)',\n",
    "            zerolinecolor='rgb(255, 255, 255)',\n",
    "            showbackground=True,\n",
    "            backgroundcolor='rgb(230, 230,230)',\n",
    "            title = 'Loneliness'\n",
    "        ),\n",
    "        aspectratio = dict( x=1, y=1, z=0.7 ),\n",
    "        aspectmode = 'manual'        \n",
    "    ),\n",
    ")\n",
    "\n",
    "figure=go.Figure(data=data,layout=layout)\n",
    "                \n",
    "py.iplot(figure, filename='want-stress-lonely')\n",
    "\n",
    "# url = py.plot(fig, filename='pandas-3d-iris', validate=False)"
   ]
  },
  {
   "cell_type": "code",
   "execution_count": null,
   "metadata": {
    "collapsed": true,
    "deletable": true,
    "editable": true
   },
   "outputs": [],
   "source": []
  }
 ],
 "metadata": {
  "kernelspec": {
   "display_name": "Python 2",
   "language": "python",
   "name": "python2"
  },
  "language_info": {
   "codemirror_mode": {
    "name": "ipython",
    "version": 2
   },
   "file_extension": ".py",
   "mimetype": "text/x-python",
   "name": "python",
   "nbconvert_exporter": "python",
   "pygments_lexer": "ipython2",
   "version": "2.7.13"
  }
 },
 "nbformat": 4,
 "nbformat_minor": 2
}
